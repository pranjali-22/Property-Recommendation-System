{
 "cells": [
  {
   "cell_type": "markdown",
   "id": "a5944e14",
   "metadata": {},
   "source": [
    "### Property Recommendation System"
   ]
  },
  {
   "cell_type": "code",
   "execution_count": 1,
   "id": "e1e5f708",
   "metadata": {},
   "outputs": [],
   "source": [
    "import numpy as np\n",
    "import pandas as pd\n",
    "import json\n",
    "import warnings\n",
    "warnings.filterwarnings(\"ignore\")"
   ]
  },
  {
   "cell_type": "code",
   "execution_count": 2,
   "id": "466d5b78",
   "metadata": {},
   "outputs": [
    {
     "name": "stdout",
     "output_type": "stream",
     "text": [
      "Data shape: (88, 1)\n",
      "Data head:\n",
      "                                           appraisals\n",
      "0  {'orderID': '4762597', 'subject': {'address': ...\n",
      "1  {'orderID': '4762739', 'subject': {'address': ...\n",
      "2  {'orderID': '4763065', 'subject': {'address': ...\n",
      "3  {'orderID': '4763086', 'subject': {'address': ...\n",
      "4  {'orderID': '4763087', 'subject': {'address': ...\n"
     ]
    }
   ],
   "source": [
    "with open('appraisals_dataset.json', 'r') as f:\n",
    "    data = pd.read_json(f)\n",
    "print(\"Data shape:\", data.shape)\n",
    "print(\"Data head:\\n\", data.head())"
   ]
  },
  {
   "cell_type": "code",
   "execution_count": 3,
   "id": "0c06a3d6",
   "metadata": {},
   "outputs": [
    {
     "data": {
      "text/html": [
       "<div>\n",
       "<style scoped>\n",
       "    .dataframe tbody tr th:only-of-type {\n",
       "        vertical-align: middle;\n",
       "    }\n",
       "\n",
       "    .dataframe tbody tr th {\n",
       "        vertical-align: top;\n",
       "    }\n",
       "\n",
       "    .dataframe thead th {\n",
       "        text-align: right;\n",
       "    }\n",
       "</style>\n",
       "<table border=\"1\" class=\"dataframe\">\n",
       "  <thead>\n",
       "    <tr style=\"text-align: right;\">\n",
       "      <th></th>\n",
       "      <th>orderID</th>\n",
       "      <th>comps</th>\n",
       "      <th>properties</th>\n",
       "      <th>subject.address</th>\n",
       "      <th>subject.subject_city_province_zip</th>\n",
       "      <th>subject.effective_date</th>\n",
       "      <th>subject.municipality_district</th>\n",
       "      <th>subject.site_dimensions</th>\n",
       "      <th>subject.lot_size_sf</th>\n",
       "      <th>subject.units_sq_ft</th>\n",
       "      <th>...</th>\n",
       "      <th>subject.room_count</th>\n",
       "      <th>subject.num_beds</th>\n",
       "      <th>subject.room_total</th>\n",
       "      <th>subject.main_lvl_area</th>\n",
       "      <th>subject.second_lvl_area</th>\n",
       "      <th>subject.third_lvl_area</th>\n",
       "      <th>subject.gla</th>\n",
       "      <th>subject.subject_age</th>\n",
       "      <th>subject.num_baths</th>\n",
       "      <th>subject.condition</th>\n",
       "    </tr>\n",
       "  </thead>\n",
       "  <tbody>\n",
       "    <tr>\n",
       "      <th>0</th>\n",
       "      <td>4762597</td>\n",
       "      <td>[{'distance_to_subject': '0.15 KM', 'prop_type...</td>\n",
       "      <td>[{'id': 367, 'address': '463 Conservatory Dr',...</td>\n",
       "      <td>142-950 Oakview Ave Kingston ON K7M 6W8</td>\n",
       "      <td>\"Twin Oak Meadows\"</td>\n",
       "      <td>Apr/11/2025</td>\n",
       "      <td>Kingston</td>\n",
       "      <td>Condo Common Property</td>\n",
       "      <td>NaN</td>\n",
       "      <td>SqFt</td>\n",
       "      <td>...</td>\n",
       "      <td>6.0</td>\n",
       "      <td>3</td>\n",
       "      <td>6.0</td>\n",
       "      <td>522</td>\n",
       "      <td>522.0</td>\n",
       "      <td>NaN</td>\n",
       "      <td>1044</td>\n",
       "      <td>49</td>\n",
       "      <td>1:1</td>\n",
       "      <td>Average</td>\n",
       "    </tr>\n",
       "    <tr>\n",
       "      <th>1</th>\n",
       "      <td>4762739</td>\n",
       "      <td>[{'distance_to_subject': '3.73 KM', 'prop_type...</td>\n",
       "      <td>[{'id': 297301, 'address': '638 Myers Point Ro...</td>\n",
       "      <td>7180 207 HWY Halifax NS B0J2L0</td>\n",
       "      <td>West Chezzetcook, NS B0J2L0</td>\n",
       "      <td>Apr/17/2025</td>\n",
       "      <td>Halifax Regional Municipality - West Chezzetcook</td>\n",
       "      <td>See Schedule A and or Plot Map</td>\n",
       "      <td>72745+/-SqFt</td>\n",
       "      <td>SqFt</td>\n",
       "      <td>...</td>\n",
       "      <td>6.0</td>\n",
       "      <td>3</td>\n",
       "      <td>6.0</td>\n",
       "      <td>1060</td>\n",
       "      <td>440.0</td>\n",
       "      <td>NaN</td>\n",
       "      <td>1500 SqFt</td>\n",
       "      <td>14+/-yrs</td>\n",
       "      <td>2:1</td>\n",
       "      <td>Average</td>\n",
       "    </tr>\n",
       "    <tr>\n",
       "      <th>2</th>\n",
       "      <td>4763065</td>\n",
       "      <td>[{'distance_to_subject': '0.31 KM', 'prop_type...</td>\n",
       "      <td>[{'id': 116134, 'address': '246 Waterbrook Lan...</td>\n",
       "      <td>11 PAUL AVE Ayr ON N0B1E0</td>\n",
       "      <td>Ayr ON N0B1E0</td>\n",
       "      <td>May/01/2025</td>\n",
       "      <td>Township of North Dumfries, Region of Waterloo</td>\n",
       "      <td>131' x 154'</td>\n",
       "      <td>20174 SqFt</td>\n",
       "      <td>SqFt</td>\n",
       "      <td>...</td>\n",
       "      <td>9.0</td>\n",
       "      <td>4</td>\n",
       "      <td>9.0</td>\n",
       "      <td>1660</td>\n",
       "      <td>1340.0</td>\n",
       "      <td>NaN</td>\n",
       "      <td>3000 SqFt</td>\n",
       "      <td>42</td>\n",
       "      <td>2:1</td>\n",
       "      <td>Average</td>\n",
       "    </tr>\n",
       "    <tr>\n",
       "      <th>3</th>\n",
       "      <td>4763086</td>\n",
       "      <td>[{'distance_to_subject': '0.78 KM', 'prop_type...</td>\n",
       "      <td>[{'id': 1849, 'address': '501 CLOTHIER Street ...</td>\n",
       "      <td>102 Stonewalk Dr Kemptville ON K0G 1J0</td>\n",
       "      <td>Kemptville ON K0G 1J0</td>\n",
       "      <td>Apr/15/2025</td>\n",
       "      <td>North Grenville, Ontario</td>\n",
       "      <td>176.38 F x Irregular</td>\n",
       "      <td>1.25 Acres</td>\n",
       "      <td>Acres</td>\n",
       "      <td>...</td>\n",
       "      <td>5.0</td>\n",
       "      <td>2</td>\n",
       "      <td>5.0</td>\n",
       "      <td>NaN</td>\n",
       "      <td>NaN</td>\n",
       "      <td>NaN</td>\n",
       "      <td>1283 SqFt</td>\n",
       "      <td>2012 +/-</td>\n",
       "      <td>3:0</td>\n",
       "      <td>Good</td>\n",
       "    </tr>\n",
       "    <tr>\n",
       "      <th>4</th>\n",
       "      <td>4763087</td>\n",
       "      <td>[{'distance_to_subject': '0.00 KM', 'prop_type...</td>\n",
       "      <td>[{'id': 293769, 'address': '3 Apollo Court', '...</td>\n",
       "      <td>407 105 Dunbrack St Halifax NS B3M3G7</td>\n",
       "      <td>Halifax NS B3M3G7</td>\n",
       "      <td>Apr/17/2025</td>\n",
       "      <td>Halifax Regional Municipality - Halifax</td>\n",
       "      <td>CONDO - N/A</td>\n",
       "      <td>NaN</td>\n",
       "      <td>NaN</td>\n",
       "      <td>...</td>\n",
       "      <td>6.0</td>\n",
       "      <td>3</td>\n",
       "      <td>6.0</td>\n",
       "      <td>1530</td>\n",
       "      <td>NaN</td>\n",
       "      <td>NaN</td>\n",
       "      <td>1530 SqFt</td>\n",
       "      <td>47+/-yrs</td>\n",
       "      <td>2:0</td>\n",
       "      <td>Average</td>\n",
       "    </tr>\n",
       "  </tbody>\n",
       "</table>\n",
       "<p>5 rows × 38 columns</p>\n",
       "</div>"
      ],
      "text/plain": [
       "   orderID                                              comps  \\\n",
       "0  4762597  [{'distance_to_subject': '0.15 KM', 'prop_type...   \n",
       "1  4762739  [{'distance_to_subject': '3.73 KM', 'prop_type...   \n",
       "2  4763065  [{'distance_to_subject': '0.31 KM', 'prop_type...   \n",
       "3  4763086  [{'distance_to_subject': '0.78 KM', 'prop_type...   \n",
       "4  4763087  [{'distance_to_subject': '0.00 KM', 'prop_type...   \n",
       "\n",
       "                                          properties  \\\n",
       "0  [{'id': 367, 'address': '463 Conservatory Dr',...   \n",
       "1  [{'id': 297301, 'address': '638 Myers Point Ro...   \n",
       "2  [{'id': 116134, 'address': '246 Waterbrook Lan...   \n",
       "3  [{'id': 1849, 'address': '501 CLOTHIER Street ...   \n",
       "4  [{'id': 293769, 'address': '3 Apollo Court', '...   \n",
       "\n",
       "                           subject.address subject.subject_city_province_zip  \\\n",
       "0  142-950 Oakview Ave Kingston ON K7M 6W8                \"Twin Oak Meadows\"   \n",
       "1           7180 207 HWY Halifax NS B0J2L0       West Chezzetcook, NS B0J2L0   \n",
       "2                11 PAUL AVE Ayr ON N0B1E0                     Ayr ON N0B1E0   \n",
       "3   102 Stonewalk Dr Kemptville ON K0G 1J0             Kemptville ON K0G 1J0   \n",
       "4    407 105 Dunbrack St Halifax NS B3M3G7                 Halifax NS B3M3G7   \n",
       "\n",
       "  subject.effective_date                     subject.municipality_district  \\\n",
       "0            Apr/11/2025                                          Kingston   \n",
       "1            Apr/17/2025  Halifax Regional Municipality - West Chezzetcook   \n",
       "2            May/01/2025    Township of North Dumfries, Region of Waterloo   \n",
       "3            Apr/15/2025                          North Grenville, Ontario   \n",
       "4            Apr/17/2025           Halifax Regional Municipality - Halifax   \n",
       "\n",
       "          subject.site_dimensions subject.lot_size_sf subject.units_sq_ft  \\\n",
       "0           Condo Common Property                 NaN                SqFt   \n",
       "1  See Schedule A and or Plot Map        72745+/-SqFt                SqFt   \n",
       "2                     131' x 154'          20174 SqFt                SqFt   \n",
       "3            176.38 F x Irregular          1.25 Acres               Acres   \n",
       "4                     CONDO - N/A                 NaN                 NaN   \n",
       "\n",
       "   ... subject.room_count subject.num_beds subject.room_total  \\\n",
       "0  ...                6.0                3                6.0   \n",
       "1  ...                6.0                3                6.0   \n",
       "2  ...                9.0                4                9.0   \n",
       "3  ...                5.0                2                5.0   \n",
       "4  ...                6.0                3                6.0   \n",
       "\n",
       "  subject.main_lvl_area subject.second_lvl_area subject.third_lvl_area  \\\n",
       "0                   522                   522.0                    NaN   \n",
       "1                  1060                   440.0                    NaN   \n",
       "2                  1660                  1340.0                    NaN   \n",
       "3                   NaN                     NaN                    NaN   \n",
       "4                  1530                     NaN                    NaN   \n",
       "\n",
       "  subject.gla subject.subject_age subject.num_baths subject.condition  \n",
       "0        1044                  49               1:1           Average  \n",
       "1   1500 SqFt            14+/-yrs               2:1           Average  \n",
       "2   3000 SqFt                  42               2:1           Average  \n",
       "3   1283 SqFt            2012 +/-               3:0              Good  \n",
       "4   1530 SqFt            47+/-yrs               2:0           Average  \n",
       "\n",
       "[5 rows x 38 columns]"
      ]
     },
     "metadata": {},
     "output_type": "display_data"
    }
   ],
   "source": [
    "df = pd.json_normalize(data['appraisals'].tolist())\n",
    "df.to_csv('appraisals.csv', index=False)\n",
    "df = pd.read_csv('appraisals.csv')\n",
    "display(df.head())"
   ]
  },
  {
   "cell_type": "code",
   "execution_count": 4,
   "id": "11d6eafb",
   "metadata": {},
   "outputs": [
    {
     "name": "stdout",
     "output_type": "stream",
     "text": [
      "\n",
      " DataFrame info:\n",
      "<class 'pandas.core.frame.DataFrame'>\n",
      "RangeIndex: 88 entries, 0 to 87\n",
      "Data columns (total 38 columns):\n",
      " #   Column                             Non-Null Count  Dtype  \n",
      "---  ------                             --------------  -----  \n",
      " 0   orderID                            88 non-null     int64  \n",
      " 1   comps                              88 non-null     object \n",
      " 2   properties                         88 non-null     object \n",
      " 3   subject.address                    88 non-null     object \n",
      " 4   subject.subject_city_province_zip  88 non-null     object \n",
      " 5   subject.effective_date             88 non-null     object \n",
      " 6   subject.municipality_district      87 non-null     object \n",
      " 7   subject.site_dimensions            88 non-null     object \n",
      " 8   subject.lot_size_sf                78 non-null     object \n",
      " 9   subject.units_sq_ft                83 non-null     object \n",
      " 10  subject.year_built                 87 non-null     object \n",
      " 11  subject.structure_type             87 non-null     object \n",
      " 12  subject.roofing                    87 non-null     object \n",
      " 13  subject.effective_age              87 non-null     object \n",
      " 14  subject.style                      88 non-null     object \n",
      " 15  subject.construction               87 non-null     object \n",
      " 16  subject.remaining_economic_life    87 non-null     object \n",
      " 17  subject.windows                    87 non-null     object \n",
      " 18  subject.basement                   79 non-null     object \n",
      " 19  subject.exterior_finish            87 non-null     object \n",
      " 20  subject.basement_area              77 non-null     object \n",
      " 21  subject.foundation_walls           87 non-null     object \n",
      " 22  subject.flooring                   87 non-null     object \n",
      " 23  subject.plumbing_lines             87 non-null     object \n",
      " 24  subject.heating                    87 non-null     object \n",
      " 25  subject.fuel_type                  87 non-null     object \n",
      " 26  subject.water_heater               87 non-null     object \n",
      " 27  subject.cooling                    62 non-null     object \n",
      " 28  subject.room_count                 87 non-null     float64\n",
      " 29  subject.num_beds                   87 non-null     object \n",
      " 30  subject.room_total                 87 non-null     float64\n",
      " 31  subject.main_lvl_area              67 non-null     object \n",
      " 32  subject.second_lvl_area            43 non-null     float64\n",
      " 33  subject.third_lvl_area             1 non-null      float64\n",
      " 34  subject.gla                        88 non-null     object \n",
      " 35  subject.subject_age                88 non-null     object \n",
      " 36  subject.num_baths                  87 non-null     object \n",
      " 37  subject.condition                  88 non-null     object \n",
      "dtypes: float64(4), int64(1), object(33)\n",
      "memory usage: 26.3+ KB\n",
      "/nFirst 5 rows of the DataFrame:\n",
      "\n",
      "DataFrame shape: (88, 38)\n",
      "\n",
      "DataFrame columns: Index(['orderID', 'comps', 'properties', 'subject.address',\n",
      "       'subject.subject_city_province_zip', 'subject.effective_date',\n",
      "       'subject.municipality_district', 'subject.site_dimensions',\n",
      "       'subject.lot_size_sf', 'subject.units_sq_ft', 'subject.year_built',\n",
      "       'subject.structure_type', 'subject.roofing', 'subject.effective_age',\n",
      "       'subject.style', 'subject.construction',\n",
      "       'subject.remaining_economic_life', 'subject.windows',\n",
      "       'subject.basement', 'subject.exterior_finish', 'subject.basement_area',\n",
      "       'subject.foundation_walls', 'subject.flooring',\n",
      "       'subject.plumbing_lines', 'subject.heating', 'subject.fuel_type',\n",
      "       'subject.water_heater', 'subject.cooling', 'subject.room_count',\n",
      "       'subject.num_beds', 'subject.room_total', 'subject.main_lvl_area',\n",
      "       'subject.second_lvl_area', 'subject.third_lvl_area', 'subject.gla',\n",
      "       'subject.subject_age', 'subject.num_baths', 'subject.condition'],\n",
      "      dtype='object')\n",
      "\n",
      " Missing values count\n",
      "orderID                               0\n",
      "comps                                 0\n",
      "properties                            0\n",
      "subject.address                       0\n",
      "subject.subject_city_province_zip     0\n",
      "subject.effective_date                0\n",
      "subject.municipality_district         1\n",
      "subject.site_dimensions               0\n",
      "subject.lot_size_sf                  10\n",
      "subject.units_sq_ft                   5\n",
      "subject.year_built                    1\n",
      "subject.structure_type                1\n",
      "subject.roofing                       1\n",
      "subject.effective_age                 1\n",
      "subject.style                         0\n",
      "subject.construction                  1\n",
      "subject.remaining_economic_life       1\n",
      "subject.windows                       1\n",
      "subject.basement                      9\n",
      "subject.exterior_finish               1\n",
      "subject.basement_area                11\n",
      "subject.foundation_walls              1\n",
      "subject.flooring                      1\n",
      "subject.plumbing_lines                1\n",
      "subject.heating                       1\n",
      "subject.fuel_type                     1\n",
      "subject.water_heater                  1\n",
      "subject.cooling                      26\n",
      "subject.room_count                    1\n",
      "subject.num_beds                      1\n",
      "subject.room_total                    1\n",
      "subject.main_lvl_area                21\n",
      "subject.second_lvl_area              45\n",
      "subject.third_lvl_area               87\n",
      "subject.gla                           0\n",
      "subject.subject_age                   0\n",
      "subject.num_baths                     1\n",
      "subject.condition                     0\n",
      "dtype: int64\n"
     ]
    }
   ],
   "source": [
    "print(\"\\n DataFrame info:\")\n",
    "df.info()\n",
    "print(\"/nFirst 5 rows of the DataFrame:\")\n",
    "df.head()\n",
    "print(\"\\nDataFrame shape:\", df.shape)\n",
    "print(\"\\nDataFrame columns:\", df.columns)\n",
    "print(\"\\n Missing values count\")\n",
    "print(df.isnull().sum())\n"
   ]
  },
  {
   "cell_type": "code",
   "execution_count": 5,
   "id": "24b5ed85",
   "metadata": {},
   "outputs": [
    {
     "name": "stdout",
     "output_type": "stream",
     "text": [
      "Initial data shape: (88, 1)\n",
      "\n",
      " Columns in the dataset: ['appraisals']\n",
      "{\n",
      "  \"orderID\": \"4762597\",\n",
      "  \"subject\": {\n",
      "    \"address\": \"142-950 Oakview Ave Kingston ON K7M 6W8\",\n",
      "    \"subject_city_province_zip\": \"\\\"Twin Oak Meadows\\\"\",\n",
      "    \"effective_date\": \"Apr/11/2025\",\n",
      "    \"municipality_district\": \"Kingston\",\n",
      "    \"site_dimensions\": \"Condo Common Property\",\n",
      "    \"lot_size_sf\": \"n/a\",\n",
      "    \"units_sq_ft\": \"SqFt\",\n",
      "    \"year_built\": \"1976\",\n",
      "    \"structure_type\": \"Townhouse\",\n",
      "    \"roofing\": \"Asphalt Shingle\",\n",
      "    \"effective_age\": \"25\",\n",
      "    \"style\": \"2 Storey\",\n",
      "    \"construction\"...\n",
      "\n",
      " Normalized DataFrame shape: (88, 38)\n",
      "\n",
      " Normalized DataFrame columns: ['orderID', 'comps', 'properties', 'subject.address', 'subject.subject_city_province_zip', 'subject.effective_date', 'subject.municipality_district', 'subject.site_dimensions', 'subject.lot_size_sf', 'subject.units_sq_ft'] ...\n",
      "\n",
      " Total missing values in the DataFrame: 155\n"
     ]
    },
    {
     "data": {
      "text/plain": [
       "subject.municipality_district       1\n",
       "subject.units_sq_ft                 1\n",
       "subject.year_built                  1\n",
       "subject.structure_type              1\n",
       "subject.roofing                     1\n",
       "subject.effective_age               1\n",
       "subject.construction                1\n",
       "subject.remaining_economic_life     1\n",
       "subject.windows                     1\n",
       "subject.exterior_finish             1\n",
       "subject.basement_area               1\n",
       "subject.foundation_walls            1\n",
       "subject.flooring                    1\n",
       "subject.plumbing_lines              1\n",
       "subject.heating                     1\n",
       "subject.fuel_type                   1\n",
       "subject.water_heater                1\n",
       "subject.cooling                     1\n",
       "subject.room_count                  1\n",
       "subject.num_beds                    1\n",
       "subject.room_total                  1\n",
       "subject.main_lvl_area               1\n",
       "subject.second_lvl_area            45\n",
       "subject.third_lvl_area             87\n",
       "subject.num_baths                   1\n",
       "dtype: int64"
      ]
     },
     "metadata": {},
     "output_type": "display_data"
    },
    {
     "data": {
      "text/html": [
       "<div>\n",
       "<style scoped>\n",
       "    .dataframe tbody tr th:only-of-type {\n",
       "        vertical-align: middle;\n",
       "    }\n",
       "\n",
       "    .dataframe tbody tr th {\n",
       "        vertical-align: top;\n",
       "    }\n",
       "\n",
       "    .dataframe thead th {\n",
       "        text-align: right;\n",
       "    }\n",
       "</style>\n",
       "<table border=\"1\" class=\"dataframe\">\n",
       "  <thead>\n",
       "    <tr style=\"text-align: right;\">\n",
       "      <th></th>\n",
       "      <th>orderID</th>\n",
       "      <th>comps</th>\n",
       "      <th>properties</th>\n",
       "      <th>subject.address</th>\n",
       "      <th>subject.subject_city_province_zip</th>\n",
       "      <th>subject.effective_date</th>\n",
       "      <th>subject.municipality_district</th>\n",
       "      <th>subject.site_dimensions</th>\n",
       "      <th>subject.lot_size_sf</th>\n",
       "      <th>subject.units_sq_ft</th>\n",
       "      <th>...</th>\n",
       "      <th>subject.room_count</th>\n",
       "      <th>subject.num_beds</th>\n",
       "      <th>subject.room_total</th>\n",
       "      <th>subject.main_lvl_area</th>\n",
       "      <th>subject.second_lvl_area</th>\n",
       "      <th>subject.third_lvl_area</th>\n",
       "      <th>subject.gla</th>\n",
       "      <th>subject.subject_age</th>\n",
       "      <th>subject.num_baths</th>\n",
       "      <th>subject.condition</th>\n",
       "    </tr>\n",
       "  </thead>\n",
       "  <tbody>\n",
       "    <tr>\n",
       "      <th>0</th>\n",
       "      <td>4762597</td>\n",
       "      <td>[{'distance_to_subject': '0.15 KM', 'prop_type...</td>\n",
       "      <td>[{'id': 367, 'address': '463 Conservatory Dr',...</td>\n",
       "      <td>142-950 Oakview Ave Kingston ON K7M 6W8</td>\n",
       "      <td>\"Twin Oak Meadows\"</td>\n",
       "      <td>Apr/11/2025</td>\n",
       "      <td>Kingston</td>\n",
       "      <td>Condo Common Property</td>\n",
       "      <td>n/a</td>\n",
       "      <td>SqFt</td>\n",
       "      <td>...</td>\n",
       "      <td>6.0</td>\n",
       "      <td>3</td>\n",
       "      <td>6.0</td>\n",
       "      <td>522</td>\n",
       "      <td>522.0</td>\n",
       "      <td>NaN</td>\n",
       "      <td>1044</td>\n",
       "      <td>49</td>\n",
       "      <td>1:1</td>\n",
       "      <td>Average</td>\n",
       "    </tr>\n",
       "    <tr>\n",
       "      <th>1</th>\n",
       "      <td>4762739</td>\n",
       "      <td>[{'distance_to_subject': '3.73 KM', 'prop_type...</td>\n",
       "      <td>[{'id': 297301, 'address': '638 Myers Point Ro...</td>\n",
       "      <td>7180 207 HWY Halifax NS B0J2L0</td>\n",
       "      <td>West Chezzetcook, NS B0J2L0</td>\n",
       "      <td>Apr/17/2025</td>\n",
       "      <td>Halifax Regional Municipality - West Chezzetcook</td>\n",
       "      <td>See Schedule A and or Plot Map</td>\n",
       "      <td>72745+/-SqFt</td>\n",
       "      <td>SqFt</td>\n",
       "      <td>...</td>\n",
       "      <td>6.0</td>\n",
       "      <td>3</td>\n",
       "      <td>6.0</td>\n",
       "      <td>1060</td>\n",
       "      <td>440.0</td>\n",
       "      <td>NaN</td>\n",
       "      <td>1500 SqFt</td>\n",
       "      <td>14+/-yrs</td>\n",
       "      <td>2:1</td>\n",
       "      <td>Average</td>\n",
       "    </tr>\n",
       "    <tr>\n",
       "      <th>2</th>\n",
       "      <td>4763065</td>\n",
       "      <td>[{'distance_to_subject': '0.31 KM', 'prop_type...</td>\n",
       "      <td>[{'id': 116134, 'address': '246 Waterbrook Lan...</td>\n",
       "      <td>11 PAUL AVE Ayr ON N0B1E0</td>\n",
       "      <td>Ayr ON N0B1E0</td>\n",
       "      <td>May/01/2025</td>\n",
       "      <td>Township of North Dumfries, Region of Waterloo</td>\n",
       "      <td>131' x 154'</td>\n",
       "      <td>20174 SqFt</td>\n",
       "      <td>SqFt</td>\n",
       "      <td>...</td>\n",
       "      <td>9.0</td>\n",
       "      <td>4</td>\n",
       "      <td>9.0</td>\n",
       "      <td>1660</td>\n",
       "      <td>1340.0</td>\n",
       "      <td>NaN</td>\n",
       "      <td>3000 SqFt</td>\n",
       "      <td>42</td>\n",
       "      <td>2:1</td>\n",
       "      <td>Average</td>\n",
       "    </tr>\n",
       "    <tr>\n",
       "      <th>3</th>\n",
       "      <td>4763086</td>\n",
       "      <td>[{'distance_to_subject': '0.78 KM', 'prop_type...</td>\n",
       "      <td>[{'id': 1849, 'address': '501 CLOTHIER Street ...</td>\n",
       "      <td>102 Stonewalk Dr Kemptville ON K0G 1J0</td>\n",
       "      <td>Kemptville ON K0G 1J0</td>\n",
       "      <td>Apr/15/2025</td>\n",
       "      <td>North Grenville, Ontario</td>\n",
       "      <td>176.38 F x Irregular</td>\n",
       "      <td>1.25 Acres</td>\n",
       "      <td>Acres</td>\n",
       "      <td>...</td>\n",
       "      <td>5.0</td>\n",
       "      <td>2</td>\n",
       "      <td>5.0</td>\n",
       "      <td></td>\n",
       "      <td>NaN</td>\n",
       "      <td>NaN</td>\n",
       "      <td>1283 SqFt</td>\n",
       "      <td>2012 +/-</td>\n",
       "      <td>3:0</td>\n",
       "      <td>Good</td>\n",
       "    </tr>\n",
       "    <tr>\n",
       "      <th>4</th>\n",
       "      <td>4763087</td>\n",
       "      <td>[{'distance_to_subject': '0.00 KM', 'prop_type...</td>\n",
       "      <td>[{'id': 293769, 'address': '3 Apollo Court', '...</td>\n",
       "      <td>407 105 Dunbrack St Halifax NS B3M3G7</td>\n",
       "      <td>Halifax NS B3M3G7</td>\n",
       "      <td>Apr/17/2025</td>\n",
       "      <td>Halifax Regional Municipality - Halifax</td>\n",
       "      <td>CONDO - N/A</td>\n",
       "      <td>N/A</td>\n",
       "      <td>N/A</td>\n",
       "      <td>...</td>\n",
       "      <td>6.0</td>\n",
       "      <td>3</td>\n",
       "      <td>6.0</td>\n",
       "      <td>1530</td>\n",
       "      <td>NaN</td>\n",
       "      <td>NaN</td>\n",
       "      <td>1530 SqFt</td>\n",
       "      <td>47+/-yrs</td>\n",
       "      <td>2:0</td>\n",
       "      <td>Average</td>\n",
       "    </tr>\n",
       "  </tbody>\n",
       "</table>\n",
       "<p>5 rows × 38 columns</p>\n",
       "</div>"
      ],
      "text/plain": [
       "   orderID                                              comps  \\\n",
       "0  4762597  [{'distance_to_subject': '0.15 KM', 'prop_type...   \n",
       "1  4762739  [{'distance_to_subject': '3.73 KM', 'prop_type...   \n",
       "2  4763065  [{'distance_to_subject': '0.31 KM', 'prop_type...   \n",
       "3  4763086  [{'distance_to_subject': '0.78 KM', 'prop_type...   \n",
       "4  4763087  [{'distance_to_subject': '0.00 KM', 'prop_type...   \n",
       "\n",
       "                                          properties  \\\n",
       "0  [{'id': 367, 'address': '463 Conservatory Dr',...   \n",
       "1  [{'id': 297301, 'address': '638 Myers Point Ro...   \n",
       "2  [{'id': 116134, 'address': '246 Waterbrook Lan...   \n",
       "3  [{'id': 1849, 'address': '501 CLOTHIER Street ...   \n",
       "4  [{'id': 293769, 'address': '3 Apollo Court', '...   \n",
       "\n",
       "                           subject.address subject.subject_city_province_zip  \\\n",
       "0  142-950 Oakview Ave Kingston ON K7M 6W8                \"Twin Oak Meadows\"   \n",
       "1           7180 207 HWY Halifax NS B0J2L0       West Chezzetcook, NS B0J2L0   \n",
       "2                11 PAUL AVE Ayr ON N0B1E0                     Ayr ON N0B1E0   \n",
       "3   102 Stonewalk Dr Kemptville ON K0G 1J0             Kemptville ON K0G 1J0   \n",
       "4    407 105 Dunbrack St Halifax NS B3M3G7                 Halifax NS B3M3G7   \n",
       "\n",
       "  subject.effective_date                     subject.municipality_district  \\\n",
       "0            Apr/11/2025                                          Kingston   \n",
       "1            Apr/17/2025  Halifax Regional Municipality - West Chezzetcook   \n",
       "2            May/01/2025    Township of North Dumfries, Region of Waterloo   \n",
       "3            Apr/15/2025                          North Grenville, Ontario   \n",
       "4            Apr/17/2025           Halifax Regional Municipality - Halifax   \n",
       "\n",
       "          subject.site_dimensions subject.lot_size_sf subject.units_sq_ft  \\\n",
       "0           Condo Common Property                 n/a                SqFt   \n",
       "1  See Schedule A and or Plot Map        72745+/-SqFt                SqFt   \n",
       "2                     131' x 154'          20174 SqFt                SqFt   \n",
       "3            176.38 F x Irregular          1.25 Acres               Acres   \n",
       "4                     CONDO - N/A                 N/A                 N/A   \n",
       "\n",
       "   ... subject.room_count subject.num_beds subject.room_total  \\\n",
       "0  ...                6.0                3                6.0   \n",
       "1  ...                6.0                3                6.0   \n",
       "2  ...                9.0                4                9.0   \n",
       "3  ...                5.0                2                5.0   \n",
       "4  ...                6.0                3                6.0   \n",
       "\n",
       "  subject.main_lvl_area subject.second_lvl_area subject.third_lvl_area  \\\n",
       "0                   522                   522.0                    NaN   \n",
       "1                  1060                   440.0                    NaN   \n",
       "2                  1660                  1340.0                    NaN   \n",
       "3                                           NaN                    NaN   \n",
       "4                  1530                     NaN                    NaN   \n",
       "\n",
       "  subject.gla subject.subject_age subject.num_baths subject.condition  \n",
       "0        1044                  49               1:1           Average  \n",
       "1   1500 SqFt            14+/-yrs               2:1           Average  \n",
       "2   3000 SqFt                  42               2:1           Average  \n",
       "3   1283 SqFt            2012 +/-               3:0              Good  \n",
       "4   1530 SqFt            47+/-yrs               2:0           Average  \n",
       "\n",
       "[5 rows x 38 columns]"
      ]
     },
     "metadata": {},
     "output_type": "display_data"
    }
   ],
   "source": [
    "with open('appraisals_dataset.json', 'r') as f:\n",
    "    data = pd.read_json(f)  \n",
    "print(\"Initial data shape:\", data.shape)\n",
    "print(\"\\n Columns in the dataset:\", data.columns.tolist())\n",
    "sample_apprasial = data['appraisals'][0]\n",
    "print(json.dumps(sample_apprasial, indent=2)[:500]+\"...\")\n",
    "\n",
    "normalized_df = pd.json_normalize(data['appraisals'])\n",
    "print(\"\\n Normalized DataFrame shape:\", normalized_df.shape)\n",
    "print(\"\\n Normalized DataFrame columns:\", normalized_df.columns.tolist()[:10],\"...\")\n",
    "\n",
    "numeric_cols = normalized_df.select_dtypes(include=['object']).columns\n",
    "for col in numeric_cols:\n",
    "    try:\n",
    "        normalized_df[col] = pd.to_numeric(normalized_df[col], errors='ignore')\n",
    "    except:\n",
    "        pass\n",
    "\n",
    "missing_data = normalized_df.isnull().sum()\n",
    "missing_values = missing_data.sum()\n",
    "print(\"\\n Total missing values in the DataFrame:\", missing_values)\n",
    "\n",
    "display(missing_data[missing_data > 0])\n",
    "display(normalized_df.head())\n"
   ]
  },
  {
   "cell_type": "code",
   "execution_count": 6,
   "id": "18f86b65",
   "metadata": {},
   "outputs": [
    {
     "data": {
      "text/html": [
       "<div>\n",
       "<style scoped>\n",
       "    .dataframe tbody tr th:only-of-type {\n",
       "        vertical-align: middle;\n",
       "    }\n",
       "\n",
       "    .dataframe tbody tr th {\n",
       "        vertical-align: top;\n",
       "    }\n",
       "\n",
       "    .dataframe thead th {\n",
       "        text-align: right;\n",
       "    }\n",
       "</style>\n",
       "<table border=\"1\" class=\"dataframe\">\n",
       "  <thead>\n",
       "    <tr style=\"text-align: right;\">\n",
       "      <th></th>\n",
       "      <th>orderID</th>\n",
       "      <th>subject.room_count</th>\n",
       "      <th>subject.room_total</th>\n",
       "      <th>subject.second_lvl_area</th>\n",
       "      <th>subject.third_lvl_area</th>\n",
       "    </tr>\n",
       "  </thead>\n",
       "  <tbody>\n",
       "    <tr>\n",
       "      <th>count</th>\n",
       "      <td>8.800000e+01</td>\n",
       "      <td>87.000000</td>\n",
       "      <td>87.000000</td>\n",
       "      <td>43.000000</td>\n",
       "      <td>1.0</td>\n",
       "    </tr>\n",
       "    <tr>\n",
       "      <th>mean</th>\n",
       "      <td>4.765229e+06</td>\n",
       "      <td>7.080460</td>\n",
       "      <td>7.172414</td>\n",
       "      <td>839.868372</td>\n",
       "      <td>300.0</td>\n",
       "    </tr>\n",
       "    <tr>\n",
       "      <th>std</th>\n",
       "      <td>8.840239e+03</td>\n",
       "      <td>1.918202</td>\n",
       "      <td>1.989548</td>\n",
       "      <td>402.985942</td>\n",
       "      <td>NaN</td>\n",
       "    </tr>\n",
       "    <tr>\n",
       "      <th>min</th>\n",
       "      <td>4.723364e+06</td>\n",
       "      <td>4.000000</td>\n",
       "      <td>4.000000</td>\n",
       "      <td>138.000000</td>\n",
       "      <td>300.0</td>\n",
       "    </tr>\n",
       "    <tr>\n",
       "      <th>25%</th>\n",
       "      <td>4.759562e+06</td>\n",
       "      <td>6.000000</td>\n",
       "      <td>6.000000</td>\n",
       "      <td>624.000000</td>\n",
       "      <td>300.0</td>\n",
       "    </tr>\n",
       "    <tr>\n",
       "      <th>50%</th>\n",
       "      <td>4.763752e+06</td>\n",
       "      <td>7.000000</td>\n",
       "      <td>7.000000</td>\n",
       "      <td>770.000000</td>\n",
       "      <td>300.0</td>\n",
       "    </tr>\n",
       "    <tr>\n",
       "      <th>75%</th>\n",
       "      <td>4.771735e+06</td>\n",
       "      <td>8.000000</td>\n",
       "      <td>8.000000</td>\n",
       "      <td>982.955000</td>\n",
       "      <td>300.0</td>\n",
       "    </tr>\n",
       "    <tr>\n",
       "      <th>max</th>\n",
       "      <td>4.779669e+06</td>\n",
       "      <td>15.000000</td>\n",
       "      <td>15.000000</td>\n",
       "      <td>2294.000000</td>\n",
       "      <td>300.0</td>\n",
       "    </tr>\n",
       "  </tbody>\n",
       "</table>\n",
       "</div>"
      ],
      "text/plain": [
       "            orderID  subject.room_count  subject.room_total  \\\n",
       "count  8.800000e+01           87.000000           87.000000   \n",
       "mean   4.765229e+06            7.080460            7.172414   \n",
       "std    8.840239e+03            1.918202            1.989548   \n",
       "min    4.723364e+06            4.000000            4.000000   \n",
       "25%    4.759562e+06            6.000000            6.000000   \n",
       "50%    4.763752e+06            7.000000            7.000000   \n",
       "75%    4.771735e+06            8.000000            8.000000   \n",
       "max    4.779669e+06           15.000000           15.000000   \n",
       "\n",
       "       subject.second_lvl_area  subject.third_lvl_area  \n",
       "count                43.000000                     1.0  \n",
       "mean                839.868372                   300.0  \n",
       "std                 402.985942                     NaN  \n",
       "min                 138.000000                   300.0  \n",
       "25%                 624.000000                   300.0  \n",
       "50%                 770.000000                   300.0  \n",
       "75%                 982.955000                   300.0  \n",
       "max                2294.000000                   300.0  "
      ]
     },
     "execution_count": 6,
     "metadata": {},
     "output_type": "execute_result"
    }
   ],
   "source": [
    "normalized_df.describe()"
   ]
  },
  {
   "cell_type": "code",
   "execution_count": 7,
   "id": "d33ed36e",
   "metadata": {},
   "outputs": [
    {
     "name": "stdout",
     "output_type": "stream",
     "text": [
      "Number of columns in normalized_df: 38\n"
     ]
    }
   ],
   "source": [
    "print(\"Number of columns in normalized_df:\", normalized_df.shape[1])"
   ]
  },
  {
   "cell_type": "code",
   "execution_count": 8,
   "id": "99f40591",
   "metadata": {},
   "outputs": [
    {
     "data": {
      "text/plain": [
       "Index(['orderID', 'comps', 'properties', 'subject.address',\n",
       "       'subject.subject_city_province_zip', 'subject.effective_date',\n",
       "       'subject.municipality_district', 'subject.site_dimensions',\n",
       "       'subject.lot_size_sf', 'subject.units_sq_ft', 'subject.year_built',\n",
       "       'subject.structure_type', 'subject.roofing', 'subject.effective_age',\n",
       "       'subject.style', 'subject.construction',\n",
       "       'subject.remaining_economic_life', 'subject.windows',\n",
       "       'subject.basement', 'subject.exterior_finish', 'subject.basement_area',\n",
       "       'subject.foundation_walls', 'subject.flooring',\n",
       "       'subject.plumbing_lines', 'subject.heating', 'subject.fuel_type',\n",
       "       'subject.water_heater', 'subject.cooling', 'subject.room_count',\n",
       "       'subject.num_beds', 'subject.room_total', 'subject.main_lvl_area',\n",
       "       'subject.second_lvl_area', 'subject.third_lvl_area', 'subject.gla',\n",
       "       'subject.subject_age', 'subject.num_baths', 'subject.condition'],\n",
       "      dtype='object')"
      ]
     },
     "execution_count": 8,
     "metadata": {},
     "output_type": "execute_result"
    }
   ],
   "source": [
    "normalized_df.columns"
   ]
  },
  {
   "cell_type": "code",
   "execution_count": 9,
   "id": "b3d65978",
   "metadata": {},
   "outputs": [
    {
     "name": "stdout",
     "output_type": "stream",
     "text": [
      "38\n",
      "0\n"
     ]
    }
   ],
   "source": [
    "done = ['orderID', 'comps', 'properties', 'subject.heating', 'subject.address','subject.foundation_walls',\n",
    "       'subject.subject_city_province_zip', 'subject.effective_date','subject.municipality_district','subject.site_dimensions',\n",
    "       'subject.lot_size_sf', 'subject.units_sq_ft','subject.exterior_finish',   'subject.condition',  'subject.flooring',\n",
    "       'subject.subject_age', 'subject.num_baths','subject.windows','subject.fuel_type','subject.plumbing_lines',\n",
    "       'subject.num_beds','subject.main_lvl_area','subject.roofing', 'subject.basement', \n",
    "       'subject.second_lvl_area','subject.third_lvl_area','subject.construction','subject.cooling', \n",
    "       'subject.gla','subject.room_total', 'subject.effective_age', 'subject.water_heater','subject.style', \n",
    "       'subject.room_count','subject.structure_type','subject.remaining_economic_life','subject.basement_area','subject.year_built',]\n",
    "\n",
    "remaining = [     \n",
    "        \n",
    "       \n",
    "      ]\n",
    "print(len(done))\n",
    "print(len(remaining))"
   ]
  },
  {
   "cell_type": "markdown",
   "id": "f1cc254d",
   "metadata": {},
   "source": [
    "## Data Pre-Processing"
   ]
  },
  {
   "cell_type": "code",
   "execution_count": 10,
   "id": "87ad977a",
   "metadata": {},
   "outputs": [
    {
     "name": "stdout",
     "output_type": "stream",
     "text": [
      "\n",
      " After parsing site dimensions:\n",
      "[           nan 7.27450000e+04 2.01740000e+04 5.44500000e+04\n",
      " 6.82500000e+03 3.69400000e+03 3.35800000e+03 5.90938110e+03\n",
      " 4.24950000e+04 2.61900000e+03 2.67000000e+04 5.00000000e+00\n",
      " 3.39430000e+04 5.98700000e+03 4.38082920e+05 1.74200000e+03\n",
      " 3.25000000e+03 4.05799030e+03 4.63924090e+03 6.51215950e+03\n",
      " 3.60100000e+03 3.55208700e+03 1.86800000e+03 6.73820140e+03\n",
      " 8.19132790e+03 1.26000000e+04 3.25300000e+03 3.36610000e+04\n",
      " 4.92986620e+03 3.73740000e+04 1.59360000e+04 3.13700000e+03\n",
      " 6.30000000e+03 1.43750000e+04 3.50000000e+03 1.42320000e+04\n",
      " 6.00000000e+03 9.11000000e+02 8.39800000e+03 6.45200000e+03\n",
      " 7.54100000e+03 7.00000000e+00 1.05700000e+04 3.00000000e+00\n",
      " 6.00000000e+00 2.89900000e+03 2.78000000e+03 5.31432000e+04\n",
      " 7.05900000e+03 6.48000000e+03 4.47778240e+03 2.74479450e+03\n",
      " 3.57361480e+03 4.10104590e+03 3.70278160e+03 2.17800000e+04\n",
      " 1.00211909e+04 2.17800000e+05 2.30460000e+04 1.00000000e+01\n",
      " 9.45070420e+03 7.52396610e+03 4.76800000e+03 4.91900000e+03\n",
      " 6.24306200e+03 5.79100000e+03 3.62500000e+03 8.16980010e+03\n",
      " 5.82326990e+03 4.35600000e+05 6.09840000e+05]\n",
      "\n",
      " Values that counlent be parsed\n",
      "[nan]\n"
     ]
    }
   ],
   "source": [
    "import re\n",
    "def parse_lot_size_sf(lot_size):\n",
    "    if pd.isna(lot_size):\n",
    "        return np.nan\n",
    "    lot_size = lot_size.lower().strip()\n",
    "    if any(x in lot_size.lower() for x in ['n/a','na','nan']):\n",
    "        return np.nan\n",
    "    value = lot_size.replace('+/-','')\n",
    "    match = re.search(r\"([\\d.]+)\", value)\n",
    "    if not match:\n",
    "        return np.nan\n",
    "    number = float(match[0])\n",
    "    if any(x in value for x in ['acres', 'acre','ac']):\n",
    "        return number * 43560\n",
    "    elif any(x in value for x in ['sqm','sq m']):\n",
    "        return number * 10.7639\n",
    "    elif any(x in value for x in ['sqft']):\n",
    "        return number\n",
    "    else:\n",
    "        return np.nan  \n",
    "\n",
    "normalized_df['subject.lot_size_sf_parsed'] = normalized_df['subject.lot_size_sf'].apply(parse_lot_size_sf)\n",
    "\n",
    "print(\"\\n After parsing site dimensions:\")\n",
    "print(normalized_df['subject.lot_size_sf_parsed'].unique())\n",
    "normalized_df['subject.lot_size_sf_parsed'].describe()\n",
    "\n",
    "print(\"\\n Values that counlent be parsed\")\n",
    "print(normalized_df[normalized_df['subject.lot_size_sf_parsed'].isnull()]['subject.lot_size_sf_parsed'].unique())\n"
   ]
  },
  {
   "cell_type": "code",
   "execution_count": 11,
   "id": "7537351a",
   "metadata": {},
   "outputs": [
    {
     "data": {
      "text/plain": [
       "array(['Condo Common Property', 'See Schedule A and or Plot Map',\n",
       "       \"131' x 154'\", '176.38 F x Irregular', 'CONDO - N/A',\n",
       "       \"26.36' x 140.17'\", \"42' x 84'\", 'CONDO - NOT APPLICABLE',\n",
       "       '14.30 m x 38.40 m', \"24.96' x 104.92'\", 'Unknown',\n",
       "       \"61.29' x Irregular\", '50.00 x 119.75', \"325.95' x IRR\",\n",
       "       '24.66 x 84.03', '13.25m x33.99m', 'See Plot Map', '605',\n",
       "       '36.09 F x 99.74 F', 'Common Property', '330', '20.34 x 91.86',\n",
       "       '19.55 x 39.58', 'Condominium property-as per deed', \"34' x 102'\",\n",
       "       '36.09 Ft x 86.94 Ft', '13.18 F x Irregular',\n",
       "       '41.39 F x Irregular', 'Condo n/a', \"41.31' x Irr\",\n",
       "       \"47.5' x 135.83'\", 'n/a condo', \"101.7' x 68.9'\", '75 x irregular',\n",
       "       \"35.10' x 104.99'\", \"52' x 132'\", '29.46 F x 98.42 F',\n",
       "       '33.27x Irr', 'Condominium Property', \"101.39' x 527'\",\n",
       "       '72.7 x Irregular', \"54' x 120'\", 'N/A Condominium',\n",
       "       '13.72m x 29.87m', '7.72m x 33.0m', '10.36m x 31.99m',\n",
       "       '11.71 m x 32.56 m', '9.7 m x 35.5 m', '176.54 F x Irregular',\n",
       "       '18.70m x 50.0m', '5 Acres', '138 x 167',\n",
       "       \"60.51' x 142.74' - Irregular\", '21.90 m x 40.08 m',\n",
       "       '10.36m x 30.08m', '15.03 m x 35.00 m', '45.28 X 108.60',\n",
       "       '15.23m x 38.07m', '44.0Ft x 131.0Ft', \"31.53' x 115'\",\n",
       "       '10.05m x 45.23m', '14.32m x 37.80m', \"830' x Irregular\",\n",
       "       \"223.32' x 1966.85'\", \"1531.45' x Irregular\"], dtype=object)"
      ]
     },
     "execution_count": 11,
     "metadata": {},
     "output_type": "execute_result"
    }
   ],
   "source": [
    "normalized_df['subject.site_dimensions'].unique()"
   ]
  },
  {
   "cell_type": "code",
   "execution_count": 12,
   "id": "0587f7de",
   "metadata": {},
   "outputs": [
    {
     "name": "stdout",
     "output_type": "stream",
     "text": [
      "\n",
      " After parsing site dimensions:\n",
      "[           nan 2.01740000e+04 3.69488120e+03 3.52800000e+03\n",
      " 5.91067887e+03 2.61880320e+03 5.98750000e+03 2.07217980e+03\n",
      " 4.84771573e+03 6.05000000e+02 3.59961660e+03 3.30000000e+02\n",
      " 1.86843240e+03 7.73789000e+02 3.46800000e+03 3.13766460e+03\n",
      " 6.45192500e+03 7.00713000e+03 3.68514900e+03 6.86400000e+03\n",
      " 2.89945320e+03 5.34325300e+04 6.48000000e+03 4.41122730e+03\n",
      " 2.74221399e+03 3.56733667e+03 4.10403819e+03 3.70655279e+03\n",
      " 1.00642569e+04 2.17800000e+05 2.30460000e+04 8.63719740e+03\n",
      " 9.44804450e+03 3.35434470e+03 5.66235544e+03 4.91740800e+03\n",
      " 6.24098132e+03 5.76400000e+03 3.62595000e+03 4.89285958e+03\n",
      " 5.82646203e+03 4.39236942e+05]\n",
      "\n",
      " Values that counlent be parsed\n",
      "['Condo Common Property' 'See Schedule A and or Plot Map'\n",
      " '176.38 F x Irregular' 'CONDO - N/A' 'CONDO - NOT APPLICABLE' 'Unknown'\n",
      " \"61.29' x Irregular\" \"325.95' x IRR\" 'See Plot Map' 'Common Property'\n",
      " 'Condominium property-as per deed' '13.18 F x Irregular'\n",
      " '41.39 F x Irregular' 'Condo n/a' \"41.31' x Irr\" 'n/a condo'\n",
      " '75 x irregular' '33.27x Irr' 'Condominium Property' '72.7 x Irregular'\n",
      " 'N/A Condominium' '176.54 F x Irregular' \"830' x Irregular\"\n",
      " \"1531.45' x Irregular\"]\n"
     ]
    }
   ],
   "source": [
    "def parse_site_dimensions(dimension):\n",
    "    if pd.isna(dimension):\n",
    "        return np.nan\n",
    "    dimension = str(dimension).strip().lower()\n",
    "    if any(x in dimension for x in ['condo','common property', 'see','n/a','unknown','not applicable']):\n",
    "        return np.nan\n",
    "    try:\n",
    "        if dimension.replace('.','',1).isdigit():\n",
    "            return float(dimension)\n",
    "        if 'acre' in dimension:\n",
    "            acres = float(dimension.split()[0])\n",
    "            return acres * 43560\n",
    "        \n",
    "        dims = dimension.replace(\"'\",'').replace('\"','').replace('ft','').replace('f','')\n",
    "        dims = dims.replace('x',' ').replace('X',' ').replace('by',' ')\n",
    "        dims = dims.replace('m','').replace('irregular','').replace('irr','')\n",
    "        dims = dims.strip().split()\n",
    "        if len(dims) >= 2:\n",
    "\n",
    "            length = float(dims[0])\n",
    "            width = float(dims[1])\n",
    "            if any(x in dimension.lower() for x in ['m','metre', 'meter']):\n",
    "                length = length * 3.28084\n",
    "                width = width * 3.28084\n",
    "            return length * width\n",
    "    except:\n",
    "        return np.nan\n",
    "\n",
    "    return\n",
    "normalized_df['subject.site_dimensions_parsed'] = normalized_df['subject.site_dimensions'].apply(parse_site_dimensions)\n",
    "\n",
    "print(\"\\n After parsing site dimensions:\")\n",
    "print(normalized_df['subject.site_dimensions_parsed'].unique())\n",
    "normalized_df['subject.site_dimensions_parsed'].describe()\n",
    "\n",
    "print(\"\\n Values that counlent be parsed\")\n",
    "print(normalized_df[normalized_df['subject.site_dimensions_parsed'].isnull()]['subject.site_dimensions'].unique())"
   ]
  },
  {
   "cell_type": "code",
   "execution_count": 13,
   "id": "4ba408e1",
   "metadata": {},
   "outputs": [
    {
     "data": {
      "text/plain": [
       "array(['n/a', '72745+/-SqFt', '20174 SqFt', '1.25 Acres', 'N/A',\n",
       "       '6825 SqFt', '3694 SqFt', '3358 SqFt', '549 SqM', '42495 SqFt',\n",
       "       '2619 SqFt', '26700 SqFt', '5,663 SqFt', '33943+/-SqFt',\n",
       "       '5987 SqFt', '10.057 Acres', '1742 SqFt', '3250 SqFt', '377 SqM',\n",
       "       '431 SqM', '605 SqM', '3601 SqFt', '330 SqM', '1868 SqFt',\n",
       "       '626 SqM', '761 SqM', 'SqFt', '12600 SqFt', 'N/A-CONDO LAND',\n",
       "       '3253 SqFt', '33661 SqFt', '458 SqM', '37374 SqFt', '15936 SqFt',\n",
       "       '3137 SqFt', '6300 SqFt', '14375 SqFt', '3500 SqFt', '14232 SqFt',\n",
       "       '6000 SqFt', '911 SqFt', '8398 SqFt', '6452 SqFt', '7541 SqFt',\n",
       "       '7,007 SqFt', '10570 SqFt', '3,685 SqFt', '6,864 SqFt',\n",
       "       '2899 SqFt', '2780 SqFt', '1.22  Acres', '7059 SqFt', '6480 SqFt',\n",
       "       'N/A Condominium', '416 SqM', '255 SqM', '332 SqM', '381 SqM',\n",
       "       'n/a-condo land', '344 SqM', '0.5ac', '931 SqM', '5 Acres',\n",
       "       '23046 SqFt', '10,014 SqFt', '878 SqM', '699 SqM', '4768 SqFt',\n",
       "       '4919 sqft', '580 SqM', '5791 SqFt', '3625 SqFt', 'na', '759 SqM',\n",
       "       '541 SqM', '10 Acres', '14 Acres'], dtype=object)"
      ]
     },
     "execution_count": 13,
     "metadata": {},
     "output_type": "execute_result"
    }
   ],
   "source": [
    "normalized_df['subject.lot_size_sf'].unique()"
   ]
  },
  {
   "cell_type": "code",
   "execution_count": 14,
   "id": "169b6a8b",
   "metadata": {},
   "outputs": [
    {
     "name": "stdout",
     "output_type": "stream",
     "text": [
      "\n",
      " After parsing site dimensions:\n",
      "[           nan 7.27450000e+04 2.01740000e+04 5.44500000e+04\n",
      " 6.82500000e+03 3.69400000e+03 3.35800000e+03 5.90938110e+03\n",
      " 4.24950000e+04 2.61900000e+03 2.67000000e+04 5.00000000e+00\n",
      " 3.39430000e+04 5.98700000e+03 4.38082920e+05 1.74200000e+03\n",
      " 3.25000000e+03 4.05799030e+03 4.63924090e+03 6.51215950e+03\n",
      " 3.60100000e+03 3.55208700e+03 1.86800000e+03 6.73820140e+03\n",
      " 8.19132790e+03 1.26000000e+04 3.25300000e+03 3.36610000e+04\n",
      " 4.92986620e+03 3.73740000e+04 1.59360000e+04 3.13700000e+03\n",
      " 6.30000000e+03 1.43750000e+04 3.50000000e+03 1.42320000e+04\n",
      " 6.00000000e+03 9.11000000e+02 8.39800000e+03 6.45200000e+03\n",
      " 7.54100000e+03 7.00000000e+00 1.05700000e+04 3.00000000e+00\n",
      " 6.00000000e+00 2.89900000e+03 2.78000000e+03 5.31432000e+04\n",
      " 7.05900000e+03 6.48000000e+03 4.47778240e+03 2.74479450e+03\n",
      " 3.57361480e+03 4.10104590e+03 3.70278160e+03 2.17800000e+04\n",
      " 1.00211909e+04 2.17800000e+05 2.30460000e+04 1.00000000e+01\n",
      " 9.45070420e+03 7.52396610e+03 4.76800000e+03 4.91900000e+03\n",
      " 6.24306200e+03 5.79100000e+03 3.62500000e+03 8.16980010e+03\n",
      " 5.82326990e+03 4.35600000e+05 6.09840000e+05]\n",
      "\n",
      " Values that counlent be parsed\n",
      "[nan]\n"
     ]
    }
   ],
   "source": [
    "import re\n",
    "def parse_lot_size_sf(lot_size):\n",
    "    if pd.isna(lot_size):\n",
    "        return np.nan\n",
    "    lot_size = lot_size.lower().strip()\n",
    "    if any(x in lot_size.lower() for x in ['n/a','na','nan']):\n",
    "        return np.nan\n",
    "    value = lot_size.replace('+/-','')\n",
    "    match = re.search(r\"([\\d.]+)\", value)\n",
    "    if not match:\n",
    "        return np.nan\n",
    "    number = float(match[0])\n",
    "    if any(x in value for x in ['acres', 'acre','ac']):\n",
    "        return number * 43560\n",
    "    elif any(x in value for x in ['sqm','sq m']):\n",
    "        return number * 10.7639\n",
    "    elif any(x in value for x in ['sqft']):\n",
    "        return number\n",
    "    else:\n",
    "        return np.nan  \n",
    "\n",
    "normalized_df['subject.lot_size_sf_parsed'] = normalized_df['subject.lot_size_sf'].apply(parse_lot_size_sf)\n",
    "\n",
    "print(\"\\n After parsing site dimensions:\")\n",
    "print(normalized_df['subject.lot_size_sf_parsed'].unique())\n",
    "normalized_df['subject.lot_size_sf_parsed'].describe()\n",
    "\n",
    "print(\"\\n Values that counlent be parsed\")\n",
    "print(normalized_df[normalized_df['subject.lot_size_sf_parsed'].isnull()]['subject.lot_size_sf_parsed'].unique())\n"
   ]
  },
  {
   "cell_type": "code",
   "execution_count": 15,
   "id": "212fa6a7",
   "metadata": {},
   "outputs": [],
   "source": [
    "normalized_df = normalized_df.drop(columns=['subject.units_sq_ft'])"
   ]
  },
  {
   "cell_type": "code",
   "execution_count": 16,
   "id": "1c8eff49",
   "metadata": {},
   "outputs": [],
   "source": [
    "object_numeric_cols = ['subject.num_beds']\n",
    "def object_to_numeric(df):\n",
    "    for col in object_numeric_cols:\n",
    "        try:\n",
    "            df[col+\"_parsed\"] = pd.to_numeric(df[col], errors='ignore')\n",
    "        except:\n",
    "            pass\n",
    "    return df"
   ]
  },
  {
   "cell_type": "code",
   "execution_count": 17,
   "id": "5434be65",
   "metadata": {},
   "outputs": [
    {
     "data": {
      "text/plain": [
       "array(['522', '1060', '1660', '', '1530', '1074', '722', '1523', '1135',\n",
       "       '2371.63', '809', '2740', '1,678', '950', '2149', '770', '677',\n",
       "       '78', '1297', '802', '90', '1039', '111', '1094', '1176', '1005',\n",
       "       '108', '1400', '864', '1217', '1968', '566', '894', '1021', '1109',\n",
       "       '693', '1494', '694', '845', '1188', '1102', '858', '1171', '580',\n",
       "       '1700', '1992', '1290', '758', '1149', '579', '567', '1269',\n",
       "       '1675', '479', '1152', '1050', '953', nan, '621', '678', '665',\n",
       "       '584', '1045.37', '1517', '2250', '627'], dtype=object)"
      ]
     },
     "execution_count": 17,
     "metadata": {},
     "output_type": "execute_result"
    }
   ],
   "source": [
    "normalized_df['subject.main_lvl_area'].unique()"
   ]
  },
  {
   "cell_type": "code",
   "execution_count": 18,
   "id": "bbb874a5",
   "metadata": {},
   "outputs": [
    {
     "data": {
      "text/plain": [
       "count      66.000000\n",
       "mean     1054.984848\n",
       "std       536.865049\n",
       "min        78.000000\n",
       "25%       681.750000\n",
       "50%      1042.185000\n",
       "75%      1284.750000\n",
       "max      2740.000000\n",
       "Name: subject.main_lvl_area_parsed, dtype: float64"
      ]
     },
     "execution_count": 18,
     "metadata": {},
     "output_type": "execute_result"
    }
   ],
   "source": [
    "def parse_lvl_area(value):\n",
    "    if value == \"\":\n",
    "        return np.nan\n",
    "    if pd.isna(value): \n",
    "        return np.nan\n",
    "    try:\n",
    "        return float(value)\n",
    "    except:\n",
    "        return np.nan\n",
    "normalized_df['subject.main_lvl_area_parsed'] = normalized_df['subject.main_lvl_area'].apply(parse_lvl_area)\n",
    "normalized_df['subject.main_lvl_area_parsed'].describe()"
   ]
  },
  {
   "cell_type": "code",
   "execution_count": 19,
   "id": "2d6feedd",
   "metadata": {},
   "outputs": [
    {
     "name": "stdout",
     "output_type": "stream",
     "text": [
      "[ 522.    440.   1340.       nan  672.    880.   1321.    960.91  716.\n",
      "  155.   1314.    770.    677.   1677.    778.    150.   1005.    138.\n",
      "  578.   1169.    566.    894.    616.    693.   1261.    940.    325.\n",
      "  652.    743.    630.    960.    656.    952.    793.    611.    934.\n",
      " 2294.   1152.   1108.   1292.    830.    701.43  621.    627.  ]\n",
      "count      43.000000\n",
      "mean      839.868372\n",
      "std       402.985942\n",
      "min       138.000000\n",
      "25%       624.000000\n",
      "50%       770.000000\n",
      "75%       982.955000\n",
      "max      2294.000000\n",
      "Name: subject.second_lvl_area, dtype: float64\n"
     ]
    }
   ],
   "source": [
    "print(normalized_df['subject.second_lvl_area'].unique())\n",
    "print(normalized_df['subject.second_lvl_area'].describe())\n"
   ]
  },
  {
   "cell_type": "code",
   "execution_count": 20,
   "id": "102af21b",
   "metadata": {},
   "outputs": [
    {
     "name": "stdout",
     "output_type": "stream",
     "text": [
      "87\n"
     ]
    }
   ],
   "source": [
    "print(normalized_df['subject.third_lvl_area'].isnull().sum())\n",
    "normalized_df = normalized_df.drop(columns=['subject.third_lvl_area'])"
   ]
  },
  {
   "cell_type": "code",
   "execution_count": 21,
   "id": "5818fde7",
   "metadata": {},
   "outputs": [
    {
     "data": {
      "text/plain": [
       "array(['1044', '1500 SqFt', '3000 SqFt', '1283 SqFt', '1530 SqFt',\n",
       "       '1746 SqFt', '1602 SqFt', '1751 SqFt', '1523 SqFt', '2456 SqFt',\n",
       "       '3332+/-SqFt', '1525 SqFt', '2895 SqFt', '1,678 SqFt', '2264 SqFt',\n",
       "       '2530 SqFt', '2149 SqFt', '1840 SqFt', '1354 SqFt', '1573.40 SqFt',\n",
       "       '78 SqM', '2974 SqFt', '2956 SqFt', '1109 SqFt', '1580 SqFt',\n",
       "       '1587 SqFt', '90 SqM', '1039 SqFt', '261 SqM', '789 SqFt',\n",
       "       '1094 SqFt', '1176 SqFt', '1334 SqFt', '2010 SqFt', '246 SqM',\n",
       "       '1400 SqFt', '864 SqFt', '1774 SqFt', '1795 SqFt', '3137 SqFt',\n",
       "       '1132 SqFt', '1788 SqFt', '1637 SqFt', '1822 SqFt', '1386 SqFt',\n",
       "       '522 SqFt', '1607 SqFt', '2755 SqFt', '1634 SqFt', '1170 SqFt',\n",
       "       '1,840 SqFt', '1845 SqFt', '1488 SqFt', '2131 SqFt', '1504 SqFt',\n",
       "       '1643 SqFt', '1236 SqFt', '1700 SqFt', '1992 SqFt', '2242 SqFt',\n",
       "       '758 SqFt', '2231.68 SqFt', '2115 SqFt', '1149 SqFt', '1372 SqFt',\n",
       "       '1178 SqFt', '2203 SqFt', '1675 SqFt', '1952 SqFt', '2773 SqFt',\n",
       "       '2304 SqFt', '1050 SqFt', '2061 SqFt', '3543.10 SqFt', '2352 SqFt',\n",
       "       '2385 SqFt', '186 SqM', '1290 SqFt', '1451 SqFt', '678 SqFt',\n",
       "       '665 sf', '584 sf', '1746.79 SqFt', '1144 SqFt', '2,138 SqFt',\n",
       "       '2250 SqFt', '1254 SqFt'], dtype=object)"
      ]
     },
     "execution_count": 21,
     "metadata": {},
     "output_type": "execute_result"
    }
   ],
   "source": [
    "normalized_df['subject.gla'].unique()"
   ]
  },
  {
   "cell_type": "code",
   "execution_count": 22,
   "id": "d79ec6a3",
   "metadata": {},
   "outputs": [
    {
     "name": "stdout",
     "output_type": "stream",
     "text": [
      "\n",
      " After parsing gla:\n",
      "[1.0440000e+03 1.5000000e+03 3.0000000e+03 1.2830000e+03 1.5300000e+03\n",
      " 1.7460000e+03 1.6020000e+03 1.7510000e+03 1.5230000e+03 2.4560000e+03\n",
      " 3.3320000e+03 1.5250000e+03 2.8950000e+03 1.0000000e+00 2.2640000e+03\n",
      " 2.5300000e+03 2.1490000e+03 1.8400000e+03 1.3540000e+03 1.5734000e+03\n",
      " 8.3958420e+02 2.9740000e+03 2.9560000e+03 1.1090000e+03 1.5800000e+03\n",
      " 1.5870000e+03 9.6875100e+02 1.0390000e+03 2.8093779e+03 7.8900000e+02\n",
      " 1.0940000e+03 1.1760000e+03 1.3340000e+03 2.0100000e+03 2.6479194e+03\n",
      " 1.4000000e+03 8.6400000e+02 1.7740000e+03 1.7950000e+03 3.1370000e+03\n",
      " 1.1320000e+03 1.7880000e+03 1.6370000e+03 1.8220000e+03 1.3860000e+03\n",
      " 5.2200000e+02 1.6070000e+03 2.7550000e+03 1.6340000e+03 1.1700000e+03\n",
      " 1.8450000e+03 1.4880000e+03 2.1310000e+03 1.5040000e+03 1.6430000e+03\n",
      " 1.2360000e+03 1.7000000e+03 1.9920000e+03 2.2420000e+03 7.5800000e+02\n",
      " 2.2316800e+03 2.1150000e+03 1.1490000e+03 1.3720000e+03 1.1780000e+03\n",
      " 2.2030000e+03 1.6750000e+03 1.9520000e+03 2.7730000e+03 2.3040000e+03\n",
      " 1.0500000e+03 2.0610000e+03 3.5431000e+03 2.3520000e+03 2.3850000e+03\n",
      " 2.0020854e+03 1.2900000e+03 1.4510000e+03 6.7800000e+02 6.6500000e+02\n",
      " 5.8400000e+02 1.7467900e+03 1.1440000e+03 2.0000000e+00 2.2500000e+03\n",
      " 1.2540000e+03]\n"
     ]
    },
    {
     "data": {
      "text/plain": [
       "count      88.000000\n",
       "mean     1673.803272\n",
       "std       732.880281\n",
       "min         1.000000\n",
       "25%      1174.500000\n",
       "50%      1604.500000\n",
       "75%      2135.500000\n",
       "max      3543.100000\n",
       "Name: subject.gla_parsed, dtype: float64"
      ]
     },
     "execution_count": 22,
     "metadata": {},
     "output_type": "execute_result"
    }
   ],
   "source": [
    "def parse_gla(value):\n",
    "    if pd.isna(value):\n",
    "        return np.nan\n",
    "    value = str(value).strip().lower()\n",
    "    if value.replace('.','',1).isdigit():\n",
    "        \n",
    "        return float(value)\n",
    "    value = value.replace('+/-','')\n",
    "    match = re.search(r\"([\\d.]+)\", value)\n",
    "    if not match:\n",
    "        return np.nan\n",
    "    number = float(match[0]) \n",
    "    if any(x in value for x in ['sqm']):\n",
    "        return number * 10.7639\n",
    "    elif any(x in value for x in ['sqft', 'sf']):\n",
    "        return number\n",
    "    else:\n",
    "        return np.nan\n",
    "    \n",
    "\n",
    "normalized_df['subject.gla_parsed'] = normalized_df['subject.gla'].apply(parse_gla)\n",
    "\n",
    "print(\"\\n After parsing gla:\")\n",
    "print(normalized_df['subject.gla_parsed'].unique())\n",
    "normalized_df['subject.gla_parsed'].describe()"
   ]
  },
  {
   "cell_type": "code",
   "execution_count": 23,
   "id": "8a284fee",
   "metadata": {},
   "outputs": [
    {
     "data": {
      "text/plain": [
       "array(['49', '14+/-yrs', '42', '2012 +/-', '47+/-yrs', '40+/-', '84',\n",
       "       '2021', '19', '2019', '1', '25', '43+/-yrs', '15', '2002', '57',\n",
       "       '135', '32', '2016', '1952', '7', '2024', '8', '1951', '2008',\n",
       "       '2013', '2017', '17', '21', '2003', 'New', '53', '2000 +/-', '74',\n",
       "       '180', '30', '22', '49+/-yrs', '1990 +/-', '1961', '1970', '1910',\n",
       "       '85', '36', '140', '12', '125', '2016 +/-', '2025', '51', '2022',\n",
       "       '2021 +/-', '35', '2015', '2004', '1998', '50', '2007', '1950',\n",
       "       '1988', '10', '4', '1981', '33', '26', '1979', '48', '105'],\n",
       "      dtype=object)"
      ]
     },
     "execution_count": 23,
     "metadata": {},
     "output_type": "execute_result"
    }
   ],
   "source": [
    "normalized_df['subject.subject_age'].unique()\n",
    "# print(normalized_df['subject.subject_age'].isnull().sum())"
   ]
  },
  {
   "cell_type": "code",
   "execution_count": 24,
   "id": "28ef022f",
   "metadata": {},
   "outputs": [
    {
     "name": "stdout",
     "output_type": "stream",
     "text": [
      "\n",
      " After parsing age:\n",
      "[ 49.  14.  42.  13.  47.  40.  84.   4.  19.   6.   1.  25.  43.  15.\n",
      "  23.  57. 135.  32.   9.  73.   7.   8.  74.  17.  12.  21.  22.   0.\n",
      "  53. 180.  30.  35.  64.  55. 115.  85.  36. 140. 125.  51.   3.  10.\n",
      "  27.  50.  18.  75.  37.  44.  33.  26.  46.  48. 105.]\n",
      "\n",
      " Values that counlent be parsed\n",
      "[]\n"
     ]
    }
   ],
   "source": [
    "def parse_age(value):\n",
    "    if pd.isna(value):\n",
    "        return np.nan\n",
    "    \n",
    "    value = str(value).strip().lower()\n",
    "    if value == \"new\":\n",
    "        return 0\n",
    "    if value.isdigit():\n",
    "        age = float(value)\n",
    "        if 1900 <= age <= 2025:\n",
    "            return 2025-age\n",
    "        return age\n",
    "    if value.replace('.','',1).isdigit():\n",
    "        return float(value)\n",
    "    match = re.search(r\"([\\d.]+)\", value)\n",
    "    if not match:\n",
    "        return np.nan\n",
    "    number = float(match[0]) \n",
    "    if 1900 <= number <= 2025:\n",
    "        return 2025-number\n",
    "    return number\n",
    "\n",
    "normalized_df['subject.subject_age_parsed'] = normalized_df['subject.subject_age'].apply(parse_age)\n",
    "\n",
    "print(\"\\n After parsing age:\")\n",
    "print(normalized_df['subject.subject_age_parsed'].unique())\n",
    "normalized_df['subject.subject_age_parsed'].describe()\n",
    "\n",
    "print(\"\\n Values that counlent be parsed\")\n",
    "print(normalized_df[normalized_df['subject.subject_age_parsed'].isnull()]['subject.subject_age'].unique())"
   ]
  },
  {
   "cell_type": "code",
   "execution_count": 25,
   "id": "2206c372",
   "metadata": {},
   "outputs": [
    {
     "data": {
      "text/plain": [
       "array(['1:1', '2:1', '3:0', '2:0', '2F 1H', '3:1', '2:2', '1:0', '2F',\n",
       "       '2 Full/1Half', '3F 1H', '3F', '4F', '3:2', '1F', '2', nan,\n",
       "       '1F 1H'], dtype=object)"
      ]
     },
     "execution_count": 25,
     "metadata": {},
     "output_type": "execute_result"
    }
   ],
   "source": [
    "normalized_df['subject.num_baths'].unique()"
   ]
  },
  {
   "cell_type": "code",
   "execution_count": 26,
   "id": "8e9a0d88",
   "metadata": {},
   "outputs": [
    {
     "name": "stdout",
     "output_type": "stream",
     "text": [
      "\n",
      " After parsing num_baths:\n",
      "[1.5 2.5 3.  2.  3.5 1.  0.5 4.  nan]\n",
      "\n",
      " Values that counlent be parsed\n",
      "[nan]\n"
     ]
    }
   ],
   "source": [
    "def parse_num_baths(value):\n",
    "    if pd.isna(value):\n",
    "        return np.nan\n",
    "    value = str(value).strip().lower()\n",
    "    if value.isdigit():\n",
    "        return float(value)\n",
    "    full = 0\n",
    "    half = 0\n",
    "    if ':' in value:\n",
    "        parts = value.split(':') \n",
    "        full = float(parts[0])\n",
    "        half = float(parts[1]) if len(parts) > 1 else 0\n",
    "    elif 'f' in value or 'h' in value:\n",
    "        full_match = re.search(r'(\\d+)f', value)\n",
    "        if full_match:\n",
    "            full = float(full_match.group(1))\n",
    "        half_match = re.search(r'(\\d+)h', value)\n",
    "        if half_match:\n",
    "            half = float(half_match.group(1))\n",
    "    elif 'full' in value or 'half' in value:\n",
    "        full_match = re.search(r'(\\d+)full', value)\n",
    "        if full_match:\n",
    "            full = float(full_match.group(1))\n",
    "        half_match = re.search(r'(\\d+)half', value)\n",
    "        if half_match:\n",
    "            half = float(half_match.group(1))\n",
    "    return full + (0.5 * half)\n",
    "    \n",
    "normalized_df['subject.num_baths_parsed'] = normalized_df['subject.num_baths'].apply(parse_num_baths)\n",
    "\n",
    "print(\"\\n After parsing num_baths:\")\n",
    "print(normalized_df['subject.num_baths_parsed'].unique())\n",
    "normalized_df['subject.num_baths_parsed'].describe()\n",
    "\n",
    "print(\"\\n Values that counlent be parsed\")\n",
    "print(normalized_df[normalized_df['subject.num_baths_parsed'].isnull()]['subject.num_baths'].unique())"
   ]
  },
  {
   "cell_type": "code",
   "execution_count": 27,
   "id": "486f5aca",
   "metadata": {},
   "outputs": [
    {
     "name": "stdout",
     "output_type": "stream",
     "text": [
      "['Townhouse' 'Detached' 'Condominium' 'Semi Detached'\n",
      " 'High Rise Apartment' 'Low Rise Apartment' 'Duplex' 'Triplex' nan\n",
      " 'Fourplex']\n",
      "1\n"
     ]
    }
   ],
   "source": [
    "print(normalized_df['subject.structure_type'].unique())\n",
    "# normalized_df['subject.structure_type'].describe()\n",
    "print(normalized_df['subject.structure_type'].isnull().sum())"
   ]
  },
  {
   "cell_type": "code",
   "execution_count": 28,
   "id": "59a80af2",
   "metadata": {},
   "outputs": [
    {
     "name": "stdout",
     "output_type": "stream",
     "text": [
      "['50' '65' '60' '55' '48' '45' '78' '59' '40' '54' '63' '64' '35' '52'\n",
      " '46' '70' '77' '66' nan '72' '70+']\n",
      "1\n"
     ]
    }
   ],
   "source": [
    "print(normalized_df['subject.remaining_economic_life'].unique())\n",
    "# normalized_df['subject.structure_type'].describe()\n",
    "print(normalized_df['subject.remaining_economic_life'].isnull().sum())"
   ]
  },
  {
   "cell_type": "code",
   "execution_count": 29,
   "id": "b9f8d19b",
   "metadata": {},
   "outputs": [
    {
     "name": "stdout",
     "output_type": "stream",
     "text": [
      "\n",
      " After parsing remaining_economic_life_parsed:\n",
      "[50. 65. 60. 55. 48. 45. 78. 59. 40. 54. 63. 64. 35. 52. 46. 70. 77. 66.\n",
      " nan 72.]\n",
      "\n",
      " Values that counlent be parsed\n",
      "[nan]\n"
     ]
    }
   ],
   "source": [
    "def parse_remaining_economic_life(value):\n",
    "    if pd.isna(value):\n",
    "        return np.nan\n",
    "    value = str(value).strip().lower()\n",
    "    match = re.search(r\"([\\d.]+)\", value)\n",
    "    if not match:\n",
    "        return np.nan   \n",
    "    number = float(match[0])\n",
    "    return number \n",
    "    \n",
    "normalized_df['subject.remaining_economic_life_parsed'] = normalized_df['subject.remaining_economic_life'].apply(parse_remaining_economic_life)\n",
    "\n",
    "print(\"\\n After parsing remaining_economic_life_parsed:\")\n",
    "print(normalized_df['subject.remaining_economic_life_parsed'].unique())\n",
    "normalized_df['subject.remaining_economic_life_parsed'].describe()\n",
    "\n",
    "print(\"\\n Values that counlent be parsed\")\n",
    "print(normalized_df[normalized_df['subject.remaining_economic_life_parsed'].isnull()]['subject.remaining_economic_life'].unique())"
   ]
  },
  {
   "cell_type": "code",
   "execution_count": 30,
   "id": "36287d66",
   "metadata": {},
   "outputs": [
    {
     "name": "stdout",
     "output_type": "stream",
     "text": [
      "['522' '1060' '1660' '1283' '' '728' '722' '575 +/-' '1135' '2137' '809'\n",
      " '1000+/-' '1,678' '819' '1200 +/-' '2149' '500' '677' '800' '71' '1285'\n",
      " '978 +/-' 'n/a' '802' '650 +/-' '83' '102' '1094' 'None' '1050±' '1005'\n",
      " '0' '1232' '864' '800 +/-' '845+/-' 'N/A' '894' '1021' '600 +/-' '1109'\n",
      " '693' '700 +/-' '1261' '694' '735' '536' '887' '960' '700' '382' '1700'\n",
      " '1992' '952' '1000' '850' '543' '567' '1269' '750' '1695' '1152' '1050'\n",
      " '620' '1500' '950+/-' nan '186' '857' '621' '1850' '627']\n"
     ]
    }
   ],
   "source": [
    "print(normalized_df['subject.basement_area'].unique())"
   ]
  },
  {
   "cell_type": "code",
   "execution_count": 31,
   "id": "a6b0f6a5",
   "metadata": {},
   "outputs": [
    {
     "name": "stdout",
     "output_type": "stream",
     "text": [
      "\n",
      " After parsing basement_area_parsed:\n",
      "[5.220e+02 1.060e+03 1.660e+03 1.283e+03       nan 7.280e+02 7.220e+02\n",
      " 5.750e+02 1.135e+03 2.137e+03 8.090e+02 1.000e+03 1.000e+00 8.190e+02\n",
      " 1.200e+03 2.149e+03 5.000e+02 6.770e+02 8.000e+02 7.100e+01 1.285e+03\n",
      " 9.780e+02 8.020e+02 6.500e+02 8.300e+01 1.020e+02 1.094e+03 1.050e+03\n",
      " 1.005e+03 0.000e+00 1.232e+03 8.640e+02 8.450e+02 8.940e+02 1.021e+03\n",
      " 6.000e+02 1.109e+03 6.930e+02 7.000e+02 1.261e+03 6.940e+02 7.350e+02\n",
      " 5.360e+02 8.870e+02 9.600e+02 3.820e+02 1.700e+03 1.992e+03 9.520e+02\n",
      " 8.500e+02 5.430e+02 5.670e+02 1.269e+03 7.500e+02 1.695e+03 1.152e+03\n",
      " 6.200e+02 1.500e+03 9.500e+02 1.860e+02 8.570e+02 6.210e+02 1.850e+03\n",
      " 6.270e+02]\n",
      "\n",
      " Values that counlent be parsed\n",
      "['' 'n/a' 'None' 'N/A' nan]\n"
     ]
    }
   ],
   "source": [
    "def parse_basement_area(value):\n",
    "    if pd.isna(value):\n",
    "        return np.nan\n",
    "    value = str(value).strip().lower()\n",
    "    if value == \"\" or value in ['n/a','na','nan','none']:\n",
    "        return np.nan\n",
    "    match = re.search(r\"([\\d.]+)\", value)\n",
    "    if not match:\n",
    "        return np.nan   \n",
    "    number = float(match[0])\n",
    "    return number \n",
    "    \n",
    "normalized_df['subject.basement_area_parsed'] = normalized_df['subject.basement_area'].apply(parse_basement_area)\n",
    "\n",
    "print(\"\\n After parsing basement_area_parsed:\")\n",
    "print(normalized_df['subject.basement_area_parsed'].unique())\n",
    "normalized_df['subject.basement_area_parsed'].describe()\n",
    "\n",
    "print(\"\\n Values that counlent be parsed\")\n",
    "print(normalized_df[normalized_df['subject.basement_area_parsed'].isnull()]['subject.basement_area'].unique())"
   ]
  },
  {
   "cell_type": "code",
   "execution_count": 32,
   "id": "27a32edf",
   "metadata": {},
   "outputs": [
    {
     "data": {
      "text/plain": [
       "array(['1976', '2011', '1983', '2012 +/-', '1978', '1985', '1941', '2021',\n",
       "       '2006', '2019', '2024', '2000', '1982', '2010', '2002', '1968',\n",
       "       '1890', '1993', '2016', '1952', '2018', '2017', '1951', '2008',\n",
       "       '2013', '2004', '2003', 'New', '1972', '1845', '1995', '1990 +/-',\n",
       "       '1961', '1970', '1910', '2025', '1940', '1989', '1885', '1900',\n",
       "       '2016 +/-', '1974', '2022', '2021 +/-', '1990', '2015', '1998',\n",
       "       '1975', '2007', '1950', '1988', nan, '1971', '1992', '1999',\n",
       "       '1979', '1977', '1920'], dtype=object)"
      ]
     },
     "execution_count": 32,
     "metadata": {},
     "output_type": "execute_result"
    }
   ],
   "source": [
    "normalized_df['subject.year_built'].unique()"
   ]
  },
  {
   "cell_type": "code",
   "execution_count": 33,
   "id": "d85a4353",
   "metadata": {},
   "outputs": [
    {
     "name": "stdout",
     "output_type": "stream",
     "text": [
      "\n",
      " After parsing year_built_parsed:\n",
      "[1976. 2011. 1983. 2012. 1978. 1985. 1941. 2021. 2006. 2019. 2024. 2000.\n",
      " 1982. 2010. 2002. 1968. 1890. 1993. 2016. 1952. 2018. 2017. 1951. 2008.\n",
      " 2013. 2004. 2003. 2025. 1972. 1845. 1995. 1990. 1961. 1970. 1910. 1940.\n",
      " 1989. 1885. 1900. 1974. 2022. 2015. 1998. 1975. 2007. 1950. 1988.   nan\n",
      " 1971. 1992. 1999. 1979. 1977. 1920.]\n",
      "\n",
      " Values that counlent be parsed\n",
      "[nan]\n"
     ]
    }
   ],
   "source": [
    "def parse_year_built(value):\n",
    "    if pd.isna(value):\n",
    "        return np.nan\n",
    "    \n",
    "    value = str(value).strip().lower()\n",
    "    if value == \"new\":\n",
    "        return 2025\n",
    "    if value.isdigit():\n",
    "        return float(value)\n",
    "    if value.replace('.','',1).isdigit():\n",
    "        return float(value)\n",
    "    match = re.search(r\"([\\d.]+)\", value)\n",
    "    if not match:\n",
    "        return np.nan\n",
    "    number = float(match[0]) \n",
    "    return number\n",
    "\n",
    "normalized_df['subject.year_built_parsed'] = normalized_df['subject.year_built'].apply(parse_year_built)\n",
    "\n",
    "print(\"\\n After parsing year_built_parsed:\")\n",
    "print(normalized_df['subject.year_built_parsed'].unique())\n",
    "normalized_df['subject.year_built_parsed'].describe()\n",
    "\n",
    "print(\"\\n Values that counlent be parsed\")\n",
    "print(normalized_df[normalized_df['subject.year_built_parsed'].isnull()]['subject.year_built'].unique())"
   ]
  },
  {
   "cell_type": "code",
   "execution_count": 34,
   "id": "26e41086",
   "metadata": {},
   "outputs": [
    {
     "data": {
      "text/plain": [
       "array(['25', '10', '15', '12', '2', '6', '1', '20', '5', '9', '7', '30',\n",
       "       '8', '0', '14', 'New', 'new', '3', '4', '40', nan], dtype=object)"
      ]
     },
     "execution_count": 34,
     "metadata": {},
     "output_type": "execute_result"
    }
   ],
   "source": [
    "normalized_df['subject.effective_age'].unique()"
   ]
  },
  {
   "cell_type": "code",
   "execution_count": 35,
   "id": "f8a80052",
   "metadata": {},
   "outputs": [
    {
     "name": "stdout",
     "output_type": "stream",
     "text": [
      "\n",
      " After parsing effective_age_parsed:\n",
      "[2.500e+01 1.000e+01 1.500e+01 1.200e+01 2.000e+00 6.000e+00 1.000e+00\n",
      " 2.000e+01 5.000e+00 9.000e+00 7.000e+00 3.000e+01 8.000e+00 0.000e+00\n",
      " 1.400e+01 2.025e+03 3.000e+00 4.000e+00 4.000e+01       nan]\n",
      "\n",
      " Values that counlent be parsed\n",
      "[nan]\n"
     ]
    }
   ],
   "source": [
    "def parse_effective_age(value):\n",
    "    if pd.isna(value):\n",
    "        return np.nan\n",
    "    \n",
    "    value = str(value).strip().lower()\n",
    "    if value == \"new\":\n",
    "        return 0\n",
    "    if value.isdigit():\n",
    "        return float(value)\n",
    "    return np.nan\n",
    "\n",
    "normalized_df['subject.effective_age_parsed'] = normalized_df['subject.effective_age'].apply(parse_year_built)\n",
    "\n",
    "print(\"\\n After parsing effective_age_parsed:\")\n",
    "print(normalized_df['subject.effective_age_parsed'].unique())\n",
    "normalized_df['subject.effective_age_parsed'].describe()\n",
    "\n",
    "print(\"\\n Values that counlent be parsed\")\n",
    "print(normalized_df[normalized_df['subject.effective_age_parsed'].isnull()]['subject.effective_age'].unique())"
   ]
  },
  {
   "cell_type": "code",
   "execution_count": 36,
   "id": "eb44ce90",
   "metadata": {},
   "outputs": [
    {
     "data": {
      "text/plain": [
       "array(['40 Gallon - Gas', '80 +/- gl Electric', 'Natural Gas',\n",
       "       'Integrated with boiler', 'Electric', 'Tankless/Instant',\n",
       "       'Propane', 'Conventional', 'Common Property',\n",
       "       'Oil Fired Hot Water Heater', '50 US Gallons', 'Hot Water Tank',\n",
       "       nan, 'Water heater for each unit'], dtype=object)"
      ]
     },
     "execution_count": 36,
     "metadata": {},
     "output_type": "execute_result"
    }
   ],
   "source": [
    "normalized_df['subject.water_heater'].unique()"
   ]
  },
  {
   "cell_type": "code",
   "execution_count": 37,
   "id": "acfb3784",
   "metadata": {},
   "outputs": [
    {
     "name": "stdout",
     "output_type": "stream",
     "text": [
      "\n",
      " After parsing water_heater_parsed:\n",
      "['Gas' 'Electric' 'Oil' 'Tankless' 'Propane' 'Conventional Tank'\n",
      " 'Common Property' nan 'Individual Units']\n",
      "\n",
      " Values that counlent be parsed\n",
      "[nan]\n"
     ]
    }
   ],
   "source": [
    "def parse_water_heater(value):\n",
    "   \n",
    "    if pd.isna(value):\n",
    "        return np.nan\n",
    "    value = str(value).strip().lower()\n",
    "    if 'gas' in value:\n",
    "        return 'Gas'\n",
    "    elif 'electric' in value:\n",
    "        return 'Electric'\n",
    "    elif 'tankless' in value or 'instant' in value:\n",
    "        return 'Tankless'\n",
    "    elif 'propane' in value:\n",
    "        return 'Propane'\n",
    "    elif 'oil' in value:\n",
    "        return 'Oil'\n",
    "    elif 'boiler' in value:\n",
    "        return 'Integrated with Boiler'\n",
    "    elif 'common' in value:\n",
    "        return 'Common Property'\n",
    "    elif 'each unit' in value:\n",
    "        return 'Individual Units'\n",
    "    elif any(x in value for x in ['conventional', 'hot water tank', 'gallon']):\n",
    "        return 'Conventional Tank'\n",
    "\n",
    "    return np.nan\n",
    "normalized_df['subject.water_heater_parsed'] = normalized_df['subject.water_heater'].apply(parse_water_heater)\n",
    "\n",
    "print(\"\\n After parsing water_heater_parsed:\")\n",
    "print(normalized_df['subject.water_heater_parsed'].unique())\n",
    "normalized_df['subject.water_heater_parsed'].describe()\n",
    "\n",
    "print(\"\\n Values that counlent be parsed\")\n",
    "print(normalized_df[normalized_df['subject.water_heater_parsed'].isnull()]['subject.water_heater'].unique())"
   ]
  },
  {
   "cell_type": "code",
   "execution_count": 38,
   "id": "969d7f36",
   "metadata": {},
   "outputs": [
    {
     "data": {
      "text/plain": [
       "array(['Wood Frame', 'Log', 'Wood', 'Steel', 'Concrete', 'Wood/Concrete',\n",
       "       'concrete/steel', 'Wood frame', 'Concrete Foundation & Floors',\n",
       "       nan], dtype=object)"
      ]
     },
     "execution_count": 38,
     "metadata": {},
     "output_type": "execute_result"
    }
   ],
   "source": [
    "normalized_df['subject.construction'].unique()"
   ]
  },
  {
   "cell_type": "code",
   "execution_count": 39,
   "id": "a67d43a5",
   "metadata": {},
   "outputs": [
    {
     "name": "stdout",
     "output_type": "stream",
     "text": [
      "\n",
      " After parsing construction_parsed:\n",
      "['Wood Frame' 'Other' 'Steel' 'Concrete' 'Wood/Concrete' 'Concrete/Steel'\n",
      " nan]\n",
      "\n",
      " Values that counlent be parsed\n",
      "[nan]\n"
     ]
    }
   ],
   "source": [
    "def parse_construction_type(value):\n",
    "    if pd.isna(value):\n",
    "        return np.nan\n",
    "    value = str(value).strip().lower()\n",
    "    if not value:\n",
    "        return np.nan\n",
    "    if value in ['wood frame','wood']:\n",
    "        return 'Wood Frame'\n",
    "    if value == 'concrete' or 'concrete fondation' in value:\n",
    "        return 'Concrete'\n",
    "    if value == 'steel':\n",
    "        return 'Steel'\n",
    "    if value == 'wood/concrete':\n",
    "        return 'Wood/Concrete'\n",
    "    if value == 'concrete/steel':\n",
    "        return 'Concrete/Steel'\n",
    "\n",
    "    return 'Other'\n",
    "\n",
    "normalized_df['subject.construction_parsed'] = normalized_df['subject.construction'].apply(parse_construction_type)\n",
    "\n",
    "print(\"\\n After parsing construction_parsed:\")\n",
    "print(normalized_df['subject.construction_parsed'].unique())\n",
    "normalized_df['subject.construction_parsed'].describe()\n",
    "\n",
    "print(\"\\n Values that counlent be parsed\")\n",
    "print(normalized_df[normalized_df['subject.construction_parsed'].isnull()]['subject.construction'].unique())\n"
   ]
  },
  {
   "cell_type": "code",
   "execution_count": 40,
   "id": "4a993642",
   "metadata": {},
   "outputs": [
    {
     "data": {
      "text/plain": [
       "array(['Asphalt Shingle', 'Asphalt/Fiberglass Shingle', 'Tar & Gravel',\n",
       "       'asphalt shingle', 'Metal', 'Asphalt', 'Asphalt shingle',\n",
       "       'flat-tar/gravel', 'Tar & Gravel, Membrane', 'Tar/Gravel',\n",
       "       'Asphalt shingles', 'Membrane, Asphalt Shingle', 'Rubber shingle',\n",
       "       nan, 'Tar and Gravel'], dtype=object)"
      ]
     },
     "execution_count": 40,
     "metadata": {},
     "output_type": "execute_result"
    }
   ],
   "source": [
    "normalized_df['subject.roofing'].unique()"
   ]
  },
  {
   "cell_type": "code",
   "execution_count": 41,
   "id": "f6c08ddc",
   "metadata": {},
   "outputs": [
    {
     "name": "stdout",
     "output_type": "stream",
     "text": [
      "\n",
      " After parsing roofing_parsed:\n",
      "['Asphalt Shingle' 'Asphalt/Fiberglass Shingle' 'Tar & Gravel' 'Metal'\n",
      " 'Asphalt' 'Rubber Shingle' nan]\n",
      "\n",
      " Values that counlent be parsed\n",
      "[nan]\n"
     ]
    }
   ],
   "source": [
    "def standardize_roofing(value):\n",
    "    if pd.isna(value):\n",
    "        return np.nan\n",
    "    v = str(value).strip().lower()\n",
    "    if 'asphalt' in v and 'fiberglass' in v:\n",
    "        return 'Asphalt/Fiberglass Shingle'\n",
    "    if 'asphalt' in v and 'shingle' in v:\n",
    "        return 'Asphalt Shingle'\n",
    "    if 'asphalt' in v and 'shingles' in v:\n",
    "        return 'Asphalt Shingle'\n",
    "    if v in ['asphalt']:\n",
    "        return 'Asphalt'\n",
    "    if 'tar' in v and 'gravel' in v:\n",
    "        return 'Tar & Gravel'\n",
    "    if 'membrane' in v and 'tar' in v:\n",
    "        return 'Tar & Gravel, Membrane'\n",
    "    if 'membrane' in v:\n",
    "        return 'Membrane'\n",
    "    if 'rubber' in v and 'shingle' in v:\n",
    "        return 'Rubber Shingle'\n",
    "    if 'metal' in v:\n",
    "        return 'Metal'\n",
    "    if 'flat' in v and 'tar' in v:\n",
    "        return 'Tar & Gravel'\n",
    "    return value\n",
    "\n",
    "normalized_df['subject.roofing_parsed'] = normalized_df['subject.roofing'].apply(standardize_roofing)\n",
    "\n",
    "print(\"\\n After parsing roofing_parsed:\")\n",
    "print(normalized_df['subject.roofing_parsed'].unique())\n",
    "normalized_df['subject.roofing_parsed'].describe()\n",
    "\n",
    "print(\"\\n Values that counlent be parsed\")\n",
    "print(normalized_df[normalized_df['subject.roofing_parsed'].isnull()]['subject.roofing'].unique())"
   ]
  },
  {
   "cell_type": "code",
   "execution_count": 42,
   "id": "96f2df87",
   "metadata": {},
   "outputs": [
    {
     "data": {
      "text/plain": [
       "array(['2 Storey', '1.5 Storey', 'Bungalow', '1 Storey', '4 Level Split',\n",
       "       '2 strorey', 'Bungalow Raised', '2.5 Storey', 'one level',\n",
       "       '3 Plus Stories', 'Split Level', '3 Storey', 'Bi-Level'],\n",
       "      dtype=object)"
      ]
     },
     "execution_count": 42,
     "metadata": {},
     "output_type": "execute_result"
    }
   ],
   "source": [
    "normalized_df['subject.style'].unique()"
   ]
  },
  {
   "cell_type": "code",
   "execution_count": 43,
   "id": "6821bba9",
   "metadata": {},
   "outputs": [
    {
     "name": "stdout",
     "output_type": "stream",
     "text": [
      "['2 Storey' '1.5 Storey' 'Bungalow' '1 Storey' '4 Level Split'\n",
      " 'Bungalow Raised' '2.5 Storey' '3 Plus Stories' 'Split Level' '3 Storey'\n",
      " 'Bi-Level']\n"
     ]
    }
   ],
   "source": [
    "def standardize_style(value):\n",
    "    if pd.isna(value):\n",
    "        return np.nan\n",
    "    v = str(value).strip().lower()\n",
    "    if v in ['2 storey', '2 strorey', '2.0 storey', 'two storey', 'two story']:\n",
    "        return '2 Storey'\n",
    "    if v in ['1.5 storey', '1 1/2 storey', 'one and a half storey']:\n",
    "        return '1.5 Storey'\n",
    "    if v in ['bungalow', 'bungalow raised', 'bi-level', 'one level', '1 storey', '1.0 storey', 'one storey', 'one story']:\n",
    "        if 'raised' in v:\n",
    "            return 'Bungalow Raised'\n",
    "        if 'bi-level' in v:\n",
    "            return 'Bi-Level'\n",
    "        if v in ['one level', '1 storey', '1.0 storey', 'one storey', 'one story']:\n",
    "            return '1 Storey'\n",
    "        return 'Bungalow'\n",
    "    if v in ['2.5 storey', '2 1/2 storey']:\n",
    "        return '2.5 Storey'\n",
    "    if v in ['3 storey', '3.0 storey', 'three storey', 'three story']:\n",
    "        return '3 Storey'\n",
    "    if v in ['3 plus stories', '3+ storey', '3+ stories']:\n",
    "        return '3 Plus Stories'\n",
    "    if v in ['split level', '4 level split']:\n",
    "        if '4' in v:\n",
    "            return '4 Level Split'\n",
    "        return 'Split Level'\n",
    "    return value\n",
    "\n",
    "# Example usage:\n",
    "normalized_df['subject.style_parsed'] = normalized_df['subject.style'].apply(standardize_style)\n",
    "print(normalized_df['subject.style_parsed'].unique())"
   ]
  },
  {
   "cell_type": "code",
   "execution_count": 44,
   "id": "dc03a776",
   "metadata": {},
   "outputs": [
    {
     "data": {
      "text/plain": [
       "array(['Vinyl', 'Wood', 'PVC', 'Vinyl, Wood', 'Combination',\n",
       "       'Aluminum Clad Vinyl', 'thermopane', 'Wood, Vinyl',\n",
       "       'Vinyl / Aluminum', 'Vinyl, Wood, Aluminum Clad Wood',\n",
       "       'OtherInput', nan], dtype=object)"
      ]
     },
     "execution_count": 44,
     "metadata": {},
     "output_type": "execute_result"
    }
   ],
   "source": [
    "normalized_df['subject.windows'].unique()"
   ]
  },
  {
   "cell_type": "code",
   "execution_count": 45,
   "id": "e1c56046",
   "metadata": {},
   "outputs": [
    {
     "name": "stdout",
     "output_type": "stream",
     "text": [
      "['Vinyl' 'Wood' 'PVC' 'Vinyl/Wood' 'Combination' 'Vinyl/Aluminum'\n",
      " 'Thermopane' 'Vinyl/Wood/Aluminum' 'Other' nan]\n"
     ]
    }
   ],
   "source": [
    "def standardize_windows(value):\n",
    "    if pd.isna(value):\n",
    "        return np.nan\n",
    "    v = str(value).strip().lower()\n",
    "    if 'vinyl' in v and 'wood' in v and 'aluminum' in v:\n",
    "        return 'Vinyl/Wood/Aluminum'\n",
    "    if 'vinyl' in v and 'wood' in v:\n",
    "        return 'Vinyl/Wood'\n",
    "    if 'vinyl' in v and 'aluminum' in v:\n",
    "        return 'Vinyl/Aluminum'\n",
    "    if 'wood' in v and 'aluminum' in v:\n",
    "        return 'Wood/Aluminum'\n",
    "    if 'vinyl' in v:\n",
    "        return 'Vinyl'\n",
    "    if 'wood' in v:\n",
    "        return 'Wood'\n",
    "    if 'pvc' in v:\n",
    "        return 'PVC'\n",
    "    if 'aluminum' in v:\n",
    "        return 'Aluminum'\n",
    "    if 'thermopane' in v:\n",
    "        return 'Thermopane'\n",
    "    if 'combination' in v:\n",
    "        return 'Combination'\n",
    "    return 'Other'\n",
    "normalized_df['subject.windows_parsed'] = normalized_df['subject.windows'].apply(standardize_windows)\n",
    "print(normalized_df['subject.windows_parsed'].unique())"
   ]
  },
  {
   "cell_type": "code",
   "execution_count": 46,
   "id": "613e81c3",
   "metadata": {},
   "outputs": [
    {
     "data": {
      "text/plain": [
       "array(['Forced Air', 'Radiant', 'HWBB', 'Electric Baseboard',\n",
       "       'Hot Water/Steam Boiler', '2 ducted heat pumps and Radiant',\n",
       "       'Geothermal', 'Baseboard, Some Infloor', 'In-Floor',\n",
       "       'Ducted heat pump & FHA Oil back up', 'HOT WATER BASEBOARD',\n",
       "       'Hot Water Radiators', 'Radiators and baserboard',\n",
       "       'Hot Water Baseboard', 'Heat Pump - Fully Ducted',\n",
       "       'Forced air, Radiant in-floor heating', nan,\n",
       "       'Forced Air for each unit', 'heat pump, electric, baseboard'],\n",
       "      dtype=object)"
      ]
     },
     "execution_count": 46,
     "metadata": {},
     "output_type": "execute_result"
    }
   ],
   "source": [
    "normalized_df['subject.heating'].unique()"
   ]
  },
  {
   "cell_type": "code",
   "execution_count": 47,
   "id": "d3673a38",
   "metadata": {},
   "outputs": [],
   "source": [
    "# def standardize_heating(value):\n",
    "#     if pd.isna(value):\n",
    "#         return np.nan\n",
    "#     v = str(value).strip().lower()\n",
    "#     if 'forced air' in v:\n",
    "#         return 'Forced Air'\n",
    "#     if 'radiant' in v or 'in-floor' in v or 'infloor' in v:\n",
    "#         return 'Radiant/In-Floor'\n",
    "#     if 'hwbb' in v or 'hot water baseboard' in v or 'hot water/steam boiler' in v or 'hot water radiators' in v or 'radiators' in v:\n",
    "#         return 'Hot Water Baseboard/Radiators'\n",
    "#     if 'electric baseboard' in v or ('baseboard' in v and 'electric' in v):\n",
    "#         return 'Electric Baseboard'\n",
    "#     if 'heat pump' in v:\n",
    "#         return 'Heat Pump'\n",
    "#     if 'geothermal' in v:\n",
    "#         return 'Geothermal'\n",
    "#     if 'boiler' in v:\n",
    "#         return 'Boiler'\n",
    "#     if 'ducted' in v:\n",
    "#         return 'Ducted Heat Pump'\n",
    "#     if 'baseboard' in v:\n",
    "#         return 'Baseboard'\n",
    "#     return value\n",
    "\n",
    "# normalized_df['subject.heating_parsed'] = normalized_df['subject.heating'].apply(standardize_heating)\n",
    "# print(normalized_df['subject.heating_parsed'].unique())"
   ]
  },
  {
   "cell_type": "code",
   "execution_count": 48,
   "id": "e072a1f2",
   "metadata": {},
   "outputs": [
    {
     "data": {
      "text/plain": [
       "array(['Brick Veneer, Vinyl Siding', 'Log', 'Brick/Siding',\n",
       "       'Brick Veneer/Vinyl Siding', 'Brick', 'Brick, Siding',\n",
       "       'brick, siding', 'Brick/Stone, Stucco', 'Siding and Stone',\n",
       "       'Siding', 'Wood', 'Hardboard/Fibre cement', 'Stone, siding',\n",
       "       'Vinyl', 'Stucco', 'Vinyl/Stone', 'Brick, siding', 'Concrete',\n",
       "       'Stucco/Stone', 'Siding, Stone', 'concrete block, brick',\n",
       "       'stone, siding', 'Concrete / Metal', 'Brick veneer, vinyl siding',\n",
       "       'Stucco, Wood siding', 'Stucco, Brick, Stone', 'Vinyl/Aluminum',\n",
       "       'Vinyl siding, Stone Veneer', 'Brick Veneer',\n",
       "       'stone, stucco, siding', 'Vinyl Siding', 'Stone, Stucco',\n",
       "       'Vinyl siding', 'Stone, Siding', 'Brick, Vinyl siding', 'Stone',\n",
       "       'Vinyl siding and stone', 'Brick / Composite', nan,\n",
       "       'Brick / Stucco', 'Stone/Brick Veneer'], dtype=object)"
      ]
     },
     "execution_count": 48,
     "metadata": {},
     "output_type": "execute_result"
    }
   ],
   "source": [
    "normalized_df['subject.exterior_finish'].unique()"
   ]
  },
  {
   "cell_type": "code",
   "execution_count": 49,
   "id": "d76d6a14",
   "metadata": {},
   "outputs": [
    {
     "name": "stdout",
     "output_type": "stream",
     "text": [
      "['Brick veneer' 'Log' 'Brick' 'Brick/Stone/Stucco' 'Stone' nan 'Wood'\n",
      " 'Fibre cement/Hardboard' 'Vinyl' 'Stucco' 'Stone/Vinyl' 'Concrete'\n",
      " 'Stone/Stucco' 'Brick/Concrete block' 'Concrete/Metal' 'Aluminum/Vinyl'\n",
      " 'Stone veneer' 'Brick Veneer' 'Brick/Composite' 'Brick/Stucco'\n",
      " 'Brick veneer/Stone']\n"
     ]
    }
   ],
   "source": [
    "def ze_exterior_finish(value):\n",
    "    if pd.isna(value):\n",
    "        return np.nan\n",
    "    v = str(value).strip().lower()\n",
    "    # Standardize delimiters\n",
    "    v = v.replace('/', ',').replace('&', ',').replace(' and ', ',').replace(';', ',')\n",
    "    v = v.replace('  ', ' ')\n",
    "    # Remove extra spaces around commas\n",
    "    v = ','.join([x.strip() for x in v.split(',')])\n",
    "    # Map common terms to canonical forms\n",
    "    mapping = {\n",
    "        'vinyl siding': 'Vinyl',\n",
    "        'vinyl siding and stone': 'Vinyl/Stone',\n",
    "        'vinyl/stone': 'Vinyl/Stone',\n",
    "        'vinyl/aluminum': 'Vinyl/Aluminum',\n",
    "        'brick veneer': 'Brick Veneer',\n",
    "        'brick veneer, vinyl siding': 'Brick Veneer/Vinyl',\n",
    "        'brick/stone': 'Brick/Stone',\n",
    "        'brick/siding': 'Brick',\n",
    "        'brick, siding': 'Brick',\n",
    "        'brick, vinyl siding': 'Brick/Vinyl ',\n",
    "        'brick / composite': 'Brick/Composite',\n",
    "        'brick / stucco': 'Brick/Stucco',\n",
    "        'brick veneer/vinyl siding': 'Brick Veneer/Vinyl',\n",
    "        'stone, siding': 'Stone',\n",
    "        'stone, stucco': 'Stone/Stucco',\n",
    "        'stucco, stone': 'Stucco/Stone',\n",
    "        'stucco, wood siding': 'Stucco/Wood',\n",
    "        'stucco, brick, stone': 'Stucco/Brick/Stone',\n",
    "        'stone/brick veneer': 'Stone/Brick Veneer',\n",
    "        'concrete block, brick': 'Concrete Block/Brick',\n",
    "        'concrete / metal': 'Concrete/Metal',\n",
    "        'hardboard/fibre cement': 'Hardboard/Fibre Cement',\n",
    "        'siding and stone': 'Stone',\n",
    "        'siding, stone': 'Stone',\n",
    "        'stone, siding': 'Stone',\n",
    "        'vinyl siding, stone veneer': 'Vinyl/Stone Veneer',\n",
    "    }\n",
    "    # Try direct mapping\n",
    "    if v in mapping:\n",
    "        return mapping[v]\n",
    "    parts = [x.strip().capitalize() for x in v.split(',') if x.strip()]\n",
    "    # Remove any part that contains 'siding'\n",
    "    parts = [p for p in parts if 'siding' not in p.lower()]\n",
    "    return '/'.join(sorted(set(parts))) if parts else np.nan\n",
    "\n",
    "# Example usage:\n",
    "normalized_df['subject.exterior_finish_parsed'] = normalized_df['subject.exterior_finish'].apply(ze_exterior_finish)\n",
    "print(normalized_df['subject.exterior_finish_parsed'].unique())"
   ]
  },
  {
   "cell_type": "code",
   "execution_count": 50,
   "id": "2bdadf83",
   "metadata": {},
   "outputs": [
    {
     "data": {
      "text/plain": [
       "array(['Full/Finished', 'Full/Part Finished', 'None',\n",
       "       \"Part/FullFin'd+Crawl\", 'Finished-wet bar', 'Full/Unfinished',\n",
       "       'Finished-illegal apartment', 'Full Finished/Walkout', 'Cellar',\n",
       "       'No Basement', 'No basement', 'Part/Unfinished', 'Part / Finished',\n",
       "       'Driveway', 'Condo Common', 'Full, Walkout',\n",
       "       'Part basement, Crawlspace', 'Part/Full Finished', 'n/a',\n",
       "       'Part Finished/Walkout'], dtype=object)"
      ]
     },
     "execution_count": 50,
     "metadata": {},
     "output_type": "execute_result"
    }
   ],
   "source": [
    "normalized_df['subject.basement'].unique()"
   ]
  },
  {
   "cell_type": "code",
   "execution_count": 51,
   "id": "e7c184ec",
   "metadata": {},
   "outputs": [
    {
     "name": "stdout",
     "output_type": "stream",
     "text": [
      "['Full/Finished' nan 'Crawlspace' 'Finished-wet Bar' 'Full/Unfinished'\n",
      " 'Part/Finished' 'Cellar' 'No basement' 'Part/Unfinished' 'Driveway'\n",
      " 'Full Finished/Walkout' 'Part Finished/Walkout']\n"
     ]
    }
   ],
   "source": [
    "def standardize_basement(value):\n",
    "    if pd.isna(value):\n",
    "        return np.nan\n",
    "    v = str(value).strip().lower()\n",
    "    if v in ['none','n/a',]:\n",
    "        return np.nan\n",
    "    if v in [ 'no basement', 'no basement', 'condo common']:\n",
    "        return 'No basement'\n",
    "    if 'full' in v and 'unfinished' in v:\n",
    "        return 'Full/Unfinished'\n",
    "    if 'full' in v and 'finished' in v:\n",
    "        return 'Full/Finished'\n",
    "    if 'part' in v and 'finished' in v and 'full' in v:\n",
    "        return 'Part/Full Finished'\n",
    "    if 'part' in v and 'finished' in v and 'walkout' in v:\n",
    "        return 'Part Finished/Walkout'\n",
    "    if 'part' in v and 'unfinished' in v:\n",
    "        return 'Part/Unfinished'\n",
    "    if 'part' in v and 'finished' in v:\n",
    "        return 'Part/Finished'\n",
    "    if 'full' in v and 'walkout' in v:\n",
    "        return 'Full Finished/Walkout'\n",
    "    if 'cellar' in v:\n",
    "        return 'Cellar'\n",
    "    if 'crawl' in v:\n",
    "        return 'Crawlspace'\n",
    "    if 'driveway' in v:\n",
    "        return 'Driveway'\n",
    "    if 'finished' in v and 'wet bar' in v:\n",
    "        return 'Finished-wet Bar'\n",
    "    if 'finished' in v and 'illegal apartment' in v:\n",
    "        return 'Finished'\n",
    "    if 'common' in v:\n",
    "        return 'Condo Common'\n",
    "    if 'walkout' in v:\n",
    "        return 'Walkout'\n",
    "    return value\n",
    "\n",
    "normalized_df['subject.basement_parsed'] = normalized_df['subject.basement'].apply(standardize_basement)\n",
    "print(normalized_df['subject.basement_parsed'].unique())"
   ]
  },
  {
   "cell_type": "code",
   "execution_count": 52,
   "id": "e43541cd",
   "metadata": {},
   "outputs": [
    {
     "data": {
      "text/plain": [
       "array(['Concrete', 'Poured Concrete', 'Poured concrete',\n",
       "       'poured concrete', 'Stone', 'concrete', 'Concrete Block', nan,\n",
       "       'Stone/Concrete Block'], dtype=object)"
      ]
     },
     "execution_count": 52,
     "metadata": {},
     "output_type": "execute_result"
    }
   ],
   "source": [
    "normalized_df['subject.foundation_walls'].unique()"
   ]
  },
  {
   "cell_type": "code",
   "execution_count": 53,
   "id": "ce0724f4",
   "metadata": {},
   "outputs": [
    {
     "name": "stdout",
     "output_type": "stream",
     "text": [
      "['Concrete' 'Poured Concrete' 'Stone' nan]\n"
     ]
    }
   ],
   "source": [
    "def standardize_foundation_walls(value):\n",
    "    if pd.isna(value):\n",
    "        return np.nan\n",
    "    v = str(value).strip().lower()\n",
    "    if 'poured concrete' in v:\n",
    "        return 'Poured Concrete'\n",
    "    if 'concrete block' in v:\n",
    "        return 'Concrete'\n",
    "    if 'stone' in v and 'concrete block' in v:\n",
    "        return 'Stone/Concrete'\n",
    "    if v == 'stone':\n",
    "        return 'Stone'\n",
    "    if v == 'concrete':\n",
    "        return 'Concrete'\n",
    "    if v == 'stone/concrete block':\n",
    "        return 'Stone/Concrete'\n",
    "    return value\n",
    "\n",
    "normalized_df['subject.foundation_walls_parsed'] = normalized_df['subject.foundation_walls'].apply(standardize_foundation_walls)\n",
    "print(normalized_df['subject.foundation_walls_parsed'].unique())"
   ]
  },
  {
   "cell_type": "code",
   "execution_count": 54,
   "id": "bb8d7e8f",
   "metadata": {},
   "outputs": [
    {
     "data": {
      "text/plain": [
       "array(['Hardwood, carpet, laminate, ceramic', 'Carpet', 'Laminate',\n",
       "       'Hardwood', 'Engineered Hardwood', 'hardwood, ceramic, carpet',\n",
       "       'Ceramic', 'Hardwood, ceramic, laminate, carpet, vinyl',\n",
       "       'Vinyl Plank', 'hardwood, laminate', 'Linoleum', 'Vinyl',\n",
       "       'Engineered hardwood, tile, carpet', 'Hardwood, carpet, tile',\n",
       "       'Carpet, vinyl tile', 'hardwood, carpet, laminate, ceramic',\n",
       "       'hardwood, vinyl, tile, linoleum', 'vinyl plank',\n",
       "       'vinyl, tile, carpet', 'carpet, laminate, vinyl',\n",
       "       'hardwood, ceramic, carpet, vinyl plank',\n",
       "       'Laminate, Ceramic tile, Hardwood', 'Vinyl plank',\n",
       "       'Hardwood, ceramic, laminate',\n",
       "       'Hardwood, ceramic, carpet, laminate',\n",
       "       'Hardwood, ceramic, laminate, carpet', 'hardwood, ceramic',\n",
       "       'Hardwood, ceramic',\n",
       "       'carpet, linoleum, hardwood, laminate, ceramic,',\n",
       "       'carpet, ceramic, hardwood,', 'Laminate, Linoleum',\n",
       "       'Vinyl plank, Hardwood, Ceramic tile, Carpet',\n",
       "       'Hardwood, laminate, ceramic, carpet', 'Carpet, tile and hardwood',\n",
       "       nan, 'Hardwood, tile, carpet, linoleum', 'Laminate, ceramic',\n",
       "       'Hardwood, vinyl, ceramic, laminate', 'hardwood, ceramic, vinyl,',\n",
       "       'Hardwood, laminate'], dtype=object)"
      ]
     },
     "execution_count": 54,
     "metadata": {},
     "output_type": "execute_result"
    }
   ],
   "source": [
    "normalized_df['subject.flooring'].unique()"
   ]
  },
  {
   "cell_type": "code",
   "execution_count": 55,
   "id": "88bb979c",
   "metadata": {},
   "outputs": [
    {
     "name": "stdout",
     "output_type": "stream",
     "text": [
      "['Carpet, Ceramic, Hardwood, Laminate' 'Carpet' 'Laminate' 'Hardwood'\n",
      " 'Engineered Hardwood' 'Carpet, Ceramic, Hardwood' 'Ceramic'\n",
      " 'Carpet, Ceramic, Hardwood, Laminate, Vinyl' 'Vinyl Plank'\n",
      " 'Hardwood, Laminate' 'Linoleum' 'Vinyl'\n",
      " 'Carpet, Engineered Hardwood, Tile' 'Carpet, Hardwood, Tile'\n",
      " 'Carpet, Vinyl Tile' 'Hardwood, Linoleum, Tile, Vinyl'\n",
      " 'Carpet, Tile, Vinyl' 'Carpet, Laminate, Vinyl'\n",
      " 'Carpet, Ceramic, Hardwood, Vinyl Plank'\n",
      " 'Ceramic Tile, Hardwood, Laminate' 'Ceramic, Hardwood, Laminate'\n",
      " 'Ceramic, Hardwood' 'Carpet, Ceramic, Hardwood, Laminate, Linoleum'\n",
      " 'Laminate, Linoleum' 'Carpet, Ceramic Tile, Hardwood, Vinyl Plank' nan\n",
      " 'Carpet, Hardwood, Linoleum, Tile' 'Ceramic, Laminate'\n",
      " 'Ceramic, Hardwood, Laminate, Vinyl' 'Ceramic, Hardwood, Vinyl']\n"
     ]
    }
   ],
   "source": [
    "def standardize_flooring(value):\n",
    "    if pd.isna(value):\n",
    "        return np.nan\n",
    "    v = str(value).strip().lower()\n",
    "    v = v.replace(';', ',').replace('/', ',').replace('&', ',').replace(' and ', ',')\n",
    "    v = ','.join([x.strip() for x in v.split(',') if x.strip()])\n",
    "    mapping = {\n",
    "        'hardwood': 'Hardwood',\n",
    "        'engineered hardwood': 'Engineered Hardwood',\n",
    "        'carpet': 'Carpet',\n",
    "        'laminate': 'Laminate',\n",
    "        'ceramic': 'Ceramic',\n",
    "        'ceramic tile': 'Ceramic Tile',\n",
    "        'tile': 'Tile',\n",
    "        'vinyl': 'Vinyl',\n",
    "        'vinyl plank': 'Vinyl Plank',\n",
    "        'vinyl tile': 'Vinyl Tile',\n",
    "        'linoleum': 'Linoleum'\n",
    "    }\n",
    "    # Split and standardize each part\n",
    "    parts = []\n",
    "    for part in v.split(','):\n",
    "        p = part.strip()\n",
    "        if not p:\n",
    "            continue\n",
    "        # Try direct mapping, else capitalize\n",
    "        mapped = mapping.get(p, mapping.get(p.replace(' tile', ''), p.title()))\n",
    "        parts.append(mapped)\n",
    "    # Remove duplicates and sort\n",
    "    parts = sorted(set(parts))\n",
    "    return ', '.join(parts) if parts else np.nan\n",
    "\n",
    "# Example usage:\n",
    "normalized_df['subject.flooring_parsed'] = normalized_df['subject.flooring'].apply(standardize_flooring)\n",
    "print(normalized_df['subject.flooring_parsed'].unique())"
   ]
  },
  {
   "cell_type": "code",
   "execution_count": 56,
   "id": "e2c6a817",
   "metadata": {},
   "outputs": [
    {
     "data": {
      "text/plain": [
       "array(['Copper, PEX, ABS', 'PEX/PVC', 'Copper', 'Copper/PVC',\n",
       "       'ABS/Copper/Pex', 'PVC/Copper', 'ABS', 'OtherInput',\n",
       "       'PVC and Pex (Not kitec)', 'Copper/Abs', 'Mixed', nan],\n",
       "      dtype=object)"
      ]
     },
     "execution_count": 56,
     "metadata": {},
     "output_type": "execute_result"
    }
   ],
   "source": [
    "normalized_df['subject.plumbing_lines'].unique()"
   ]
  },
  {
   "cell_type": "code",
   "execution_count": 57,
   "id": "04301e89",
   "metadata": {},
   "outputs": [
    {
     "name": "stdout",
     "output_type": "stream",
     "text": [
      "['ABS/Copper/PEX' 'PEX/PVC' 'Copper' 'Copper/PVC' 'ABS' 'Other'\n",
      " 'ABS/Copper' 'Mixed' nan]\n"
     ]
    }
   ],
   "source": [
    "def standardize_plumbing_lines(value):\n",
    "    if pd.isna(value):\n",
    "        return np.nan\n",
    "    v = str(value).strip().lower()\n",
    "    # Replace common delimiters with comma\n",
    "    v = v.replace('/', ',').replace('&', ',').replace(' and ', ',')\n",
    "    # Remove parentheses and their content\n",
    "    v = re.sub(r'\\(.*?\\)', '', v)\n",
    "    # Split and clean parts\n",
    "    parts = [x.strip() for x in v.split(',') if x.strip()]\n",
    "    # Canonical mapping\n",
    "    mapping = {\n",
    "        'pex': 'PEX',\n",
    "        'copper': 'Copper',\n",
    "        'abs': 'ABS',\n",
    "        'pvc': 'PVC',\n",
    "        'mixed': 'Mixed',\n",
    "        'otherinput': 'Other',\n",
    "        'other': 'Other'\n",
    "    }\n",
    "    std_parts = []\n",
    "    for part in parts:\n",
    "        p = part.replace('not kitec', '').strip()\n",
    "        std = mapping.get(p, None)\n",
    "        if not std:\n",
    "            # Try to match partials\n",
    "            for k in mapping:\n",
    "                if k in p:\n",
    "                    std = mapping[k]\n",
    "                    break\n",
    "        if std:\n",
    "            std_parts.append(std)\n",
    "    # Remove duplicates and sort\n",
    "    std_parts = sorted(set(std_parts))\n",
    "    return '/'.join(std_parts) if std_parts else np.nan\n",
    "\n",
    "# Example usage:\n",
    "normalized_df['subject.plumbing_lines_parsed'] = normalized_df['subject.plumbing_lines'].apply(standardize_plumbing_lines)\n",
    "print(normalized_df['subject.plumbing_lines_parsed'].unique())"
   ]
  },
  {
   "cell_type": "code",
   "execution_count": 58,
   "id": "09760bea",
   "metadata": {},
   "outputs": [
    {
     "data": {
      "text/plain": [
       "array(['Forced Air', 'Radiant', 'HWBB', 'Electric Baseboard',\n",
       "       'Hot Water/Steam Boiler', '2 ducted heat pumps and Radiant',\n",
       "       'Geothermal', 'Baseboard, Some Infloor', 'In-Floor',\n",
       "       'Ducted heat pump & FHA Oil back up', 'HOT WATER BASEBOARD',\n",
       "       'Hot Water Radiators', 'Radiators and baserboard',\n",
       "       'Hot Water Baseboard', 'Heat Pump - Fully Ducted',\n",
       "       'Forced air, Radiant in-floor heating', nan,\n",
       "       'Forced Air for each unit', 'heat pump, electric, baseboard'],\n",
       "      dtype=object)"
      ]
     },
     "execution_count": 58,
     "metadata": {},
     "output_type": "execute_result"
    }
   ],
   "source": [
    "normalized_df['subject.heating'].unique()"
   ]
  },
  {
   "cell_type": "code",
   "execution_count": 59,
   "id": "94cc1e04",
   "metadata": {},
   "outputs": [
    {
     "name": "stdout",
     "output_type": "stream",
     "text": [
      "['Forced Air' 'Radiant/In-Floor' 'Hot Water Baseboard/Radiators'\n",
      " 'Electric Baseboard' 'Geothermal' 'Ducted Heat Pump' nan]\n"
     ]
    }
   ],
   "source": [
    "def standardize_heating(value):\n",
    "    if pd.isna(value):\n",
    "        return np.nan\n",
    "    v = str(value).strip().lower()\n",
    "    # Canonical mapping\n",
    "    if 'forced air' in v:\n",
    "        return 'Forced Air'\n",
    "    if 'radiant' in v or 'in-floor' in v or 'infloor' in v:\n",
    "        return 'Radiant/In-Floor'\n",
    "    if 'hwbb' in v or 'hot water baseboard' in v or 'hot water/steam boiler' in v or 'hot water radiators' in v or 'radiators' in v:\n",
    "        return 'Hot Water Baseboard/Radiators'\n",
    "    if 'electric baseboard' in v or ('baseboard' in v and 'electric' in v):\n",
    "        return 'Electric Baseboard'\n",
    "    if 'heat pump' in v:\n",
    "        if 'ducted' in v:\n",
    "            return 'Ducted Heat Pump'\n",
    "        return 'Heat Pump'\n",
    "    if 'geothermal' in v:\n",
    "        return 'Geothermal'\n",
    "    if 'boiler' in v:\n",
    "        return 'Boiler'\n",
    "    if 'baseboard' in v:\n",
    "        return 'Baseboard'\n",
    "    return value\n",
    "\n",
    "normalized_df['subject.heating' + '_parsed'] = normalized_df['subject.heating'].apply(standardize_heating)\n",
    "print(normalized_df['subject.heating' + '_parsed'].unique())"
   ]
  },
  {
   "cell_type": "code",
   "execution_count": 60,
   "id": "ae88c761",
   "metadata": {},
   "outputs": [
    {
     "data": {
      "text/plain": [
       "array(['Central Air', 'Ductless mini split', 'None', 'Heat Pump', nan],\n",
       "      dtype=object)"
      ]
     },
     "execution_count": 60,
     "metadata": {},
     "output_type": "execute_result"
    }
   ],
   "source": [
    "normalized_df['subject.cooling'].unique()"
   ]
  },
  {
   "cell_type": "code",
   "execution_count": 61,
   "id": "7aff557a",
   "metadata": {},
   "outputs": [
    {
     "data": {
      "text/plain": [
       "array(['Central Air', 'Ductless Mini Split', nan, 'Heat Pump'],\n",
       "      dtype=object)"
      ]
     },
     "execution_count": 61,
     "metadata": {},
     "output_type": "execute_result"
    }
   ],
   "source": [
    "def parse_cooling(value):\n",
    "    if pd.isna(value):\n",
    "        return np.nan\n",
    "    if value == 'None':\n",
    "        return np.nan\n",
    "    if value == 'Ductless mini split':\n",
    "        return 'Ductless Mini Split'\n",
    "    return value\n",
    "normalized_df['subject.cooling_parsed'] = normalized_df['subject.cooling'].apply(parse_cooling)\n",
    "normalized_df['subject.cooling_parsed'].unique()\n"
   ]
  },
  {
   "cell_type": "code",
   "execution_count": 62,
   "id": "4b581956",
   "metadata": {},
   "outputs": [
    {
     "data": {
      "text/plain": [
       "array(['Average', 'Good', 'Excellent', 'Fair'], dtype=object)"
      ]
     },
     "execution_count": 62,
     "metadata": {},
     "output_type": "execute_result"
    }
   ],
   "source": [
    "normalized_df['subject.condition'].unique()"
   ]
  },
  {
   "cell_type": "code",
   "execution_count": 63,
   "id": "3060c6af",
   "metadata": {},
   "outputs": [],
   "source": [
    "# write a python function to parse and standardize a column with these values"
   ]
  },
  {
   "cell_type": "code",
   "execution_count": 64,
   "id": "45c8ff1c",
   "metadata": {},
   "outputs": [
    {
     "data": {
      "text/html": [
       "<div>\n",
       "<style scoped>\n",
       "    .dataframe tbody tr th:only-of-type {\n",
       "        vertical-align: middle;\n",
       "    }\n",
       "\n",
       "    .dataframe tbody tr th {\n",
       "        vertical-align: top;\n",
       "    }\n",
       "\n",
       "    .dataframe thead th {\n",
       "        text-align: right;\n",
       "    }\n",
       "</style>\n",
       "<table border=\"1\" class=\"dataframe\">\n",
       "  <thead>\n",
       "    <tr style=\"text-align: right;\">\n",
       "      <th></th>\n",
       "      <th>orderID</th>\n",
       "      <th>subject.room_count</th>\n",
       "      <th>subject.room_total</th>\n",
       "      <th>subject.second_lvl_area</th>\n",
       "      <th>subject.lot_size_sf_parsed</th>\n",
       "      <th>subject.site_dimensions_parsed</th>\n",
       "      <th>subject.main_lvl_area_parsed</th>\n",
       "      <th>subject.gla_parsed</th>\n",
       "      <th>subject.subject_age_parsed</th>\n",
       "      <th>subject.num_baths_parsed</th>\n",
       "      <th>subject.remaining_economic_life_parsed</th>\n",
       "      <th>subject.basement_area_parsed</th>\n",
       "      <th>subject.year_built_parsed</th>\n",
       "      <th>subject.effective_age_parsed</th>\n",
       "    </tr>\n",
       "  </thead>\n",
       "  <tbody>\n",
       "    <tr>\n",
       "      <th>count</th>\n",
       "      <td>8.800000e+01</td>\n",
       "      <td>87.000000</td>\n",
       "      <td>87.000000</td>\n",
       "      <td>43.000000</td>\n",
       "      <td>72.000000</td>\n",
       "      <td>41.000000</td>\n",
       "      <td>66.000000</td>\n",
       "      <td>88.000000</td>\n",
       "      <td>88.000000</td>\n",
       "      <td>87.000000</td>\n",
       "      <td>87.000000</td>\n",
       "      <td>77.000000</td>\n",
       "      <td>87.000000</td>\n",
       "      <td>87.000000</td>\n",
       "    </tr>\n",
       "    <tr>\n",
       "      <th>mean</th>\n",
       "      <td>4.765229e+06</td>\n",
       "      <td>7.080460</td>\n",
       "      <td>7.172414</td>\n",
       "      <td>839.868372</td>\n",
       "      <td>39646.533149</td>\n",
       "      <td>22353.283400</td>\n",
       "      <td>1054.984848</td>\n",
       "      <td>1673.803272</td>\n",
       "      <td>37.602273</td>\n",
       "      <td>2.321839</td>\n",
       "      <td>55.057471</td>\n",
       "      <td>854.428571</td>\n",
       "      <td>1986.896552</td>\n",
       "      <td>82.804598</td>\n",
       "    </tr>\n",
       "    <tr>\n",
       "      <th>std</th>\n",
       "      <td>8.840239e+03</td>\n",
       "      <td>1.918202</td>\n",
       "      <td>1.989548</td>\n",
       "      <td>402.985942</td>\n",
       "      <td>112498.130983</td>\n",
       "      <td>74931.890913</td>\n",
       "      <td>536.865049</td>\n",
       "      <td>732.880281</td>\n",
       "      <td>39.161775</td>\n",
       "      <td>0.845566</td>\n",
       "      <td>10.046816</td>\n",
       "      <td>481.362716</td>\n",
       "      <td>39.252325</td>\n",
       "      <td>369.271182</td>\n",
       "    </tr>\n",
       "    <tr>\n",
       "      <th>min</th>\n",
       "      <td>4.723364e+06</td>\n",
       "      <td>4.000000</td>\n",
       "      <td>4.000000</td>\n",
       "      <td>138.000000</td>\n",
       "      <td>3.000000</td>\n",
       "      <td>330.000000</td>\n",
       "      <td>78.000000</td>\n",
       "      <td>1.000000</td>\n",
       "      <td>0.000000</td>\n",
       "      <td>0.500000</td>\n",
       "      <td>35.000000</td>\n",
       "      <td>0.000000</td>\n",
       "      <td>1845.000000</td>\n",
       "      <td>0.000000</td>\n",
       "    </tr>\n",
       "    <tr>\n",
       "      <th>25%</th>\n",
       "      <td>4.759562e+06</td>\n",
       "      <td>6.000000</td>\n",
       "      <td>6.000000</td>\n",
       "      <td>624.000000</td>\n",
       "      <td>3539.065250</td>\n",
       "      <td>3468.000000</td>\n",
       "      <td>681.750000</td>\n",
       "      <td>1174.500000</td>\n",
       "      <td>9.000000</td>\n",
       "      <td>1.500000</td>\n",
       "      <td>48.000000</td>\n",
       "      <td>621.000000</td>\n",
       "      <td>1974.500000</td>\n",
       "      <td>8.000000</td>\n",
       "    </tr>\n",
       "    <tr>\n",
       "      <th>50%</th>\n",
       "      <td>4.763752e+06</td>\n",
       "      <td>7.000000</td>\n",
       "      <td>7.000000</td>\n",
       "      <td>770.000000</td>\n",
       "      <td>6121.531000</td>\n",
       "      <td>4847.715735</td>\n",
       "      <td>1042.185000</td>\n",
       "      <td>1604.500000</td>\n",
       "      <td>24.000000</td>\n",
       "      <td>2.500000</td>\n",
       "      <td>55.000000</td>\n",
       "      <td>819.000000</td>\n",
       "      <td>2000.000000</td>\n",
       "      <td>14.000000</td>\n",
       "    </tr>\n",
       "    <tr>\n",
       "      <th>75%</th>\n",
       "      <td>4.771735e+06</td>\n",
       "      <td>8.000000</td>\n",
       "      <td>8.000000</td>\n",
       "      <td>982.955000</td>\n",
       "      <td>14267.750000</td>\n",
       "      <td>6480.000000</td>\n",
       "      <td>1284.750000</td>\n",
       "      <td>2135.500000</td>\n",
       "      <td>49.250000</td>\n",
       "      <td>3.000000</td>\n",
       "      <td>61.500000</td>\n",
       "      <td>1050.000000</td>\n",
       "      <td>2016.000000</td>\n",
       "      <td>17.500000</td>\n",
       "    </tr>\n",
       "    <tr>\n",
       "      <th>max</th>\n",
       "      <td>4.779669e+06</td>\n",
       "      <td>15.000000</td>\n",
       "      <td>15.000000</td>\n",
       "      <td>2294.000000</td>\n",
       "      <td>609840.000000</td>\n",
       "      <td>439236.942000</td>\n",
       "      <td>2740.000000</td>\n",
       "      <td>3543.100000</td>\n",
       "      <td>180.000000</td>\n",
       "      <td>4.000000</td>\n",
       "      <td>78.000000</td>\n",
       "      <td>2149.000000</td>\n",
       "      <td>2025.000000</td>\n",
       "      <td>2025.000000</td>\n",
       "    </tr>\n",
       "  </tbody>\n",
       "</table>\n",
       "</div>"
      ],
      "text/plain": [
       "            orderID  subject.room_count  subject.room_total  \\\n",
       "count  8.800000e+01           87.000000           87.000000   \n",
       "mean   4.765229e+06            7.080460            7.172414   \n",
       "std    8.840239e+03            1.918202            1.989548   \n",
       "min    4.723364e+06            4.000000            4.000000   \n",
       "25%    4.759562e+06            6.000000            6.000000   \n",
       "50%    4.763752e+06            7.000000            7.000000   \n",
       "75%    4.771735e+06            8.000000            8.000000   \n",
       "max    4.779669e+06           15.000000           15.000000   \n",
       "\n",
       "       subject.second_lvl_area  subject.lot_size_sf_parsed  \\\n",
       "count                43.000000                   72.000000   \n",
       "mean                839.868372                39646.533149   \n",
       "std                 402.985942               112498.130983   \n",
       "min                 138.000000                    3.000000   \n",
       "25%                 624.000000                 3539.065250   \n",
       "50%                 770.000000                 6121.531000   \n",
       "75%                 982.955000                14267.750000   \n",
       "max                2294.000000               609840.000000   \n",
       "\n",
       "       subject.site_dimensions_parsed  subject.main_lvl_area_parsed  \\\n",
       "count                       41.000000                     66.000000   \n",
       "mean                     22353.283400                   1054.984848   \n",
       "std                      74931.890913                    536.865049   \n",
       "min                        330.000000                     78.000000   \n",
       "25%                       3468.000000                    681.750000   \n",
       "50%                       4847.715735                   1042.185000   \n",
       "75%                       6480.000000                   1284.750000   \n",
       "max                     439236.942000                   2740.000000   \n",
       "\n",
       "       subject.gla_parsed  subject.subject_age_parsed  \\\n",
       "count           88.000000                   88.000000   \n",
       "mean          1673.803272                   37.602273   \n",
       "std            732.880281                   39.161775   \n",
       "min              1.000000                    0.000000   \n",
       "25%           1174.500000                    9.000000   \n",
       "50%           1604.500000                   24.000000   \n",
       "75%           2135.500000                   49.250000   \n",
       "max           3543.100000                  180.000000   \n",
       "\n",
       "       subject.num_baths_parsed  subject.remaining_economic_life_parsed  \\\n",
       "count                 87.000000                               87.000000   \n",
       "mean                   2.321839                               55.057471   \n",
       "std                    0.845566                               10.046816   \n",
       "min                    0.500000                               35.000000   \n",
       "25%                    1.500000                               48.000000   \n",
       "50%                    2.500000                               55.000000   \n",
       "75%                    3.000000                               61.500000   \n",
       "max                    4.000000                               78.000000   \n",
       "\n",
       "       subject.basement_area_parsed  subject.year_built_parsed  \\\n",
       "count                     77.000000                  87.000000   \n",
       "mean                     854.428571                1986.896552   \n",
       "std                      481.362716                  39.252325   \n",
       "min                        0.000000                1845.000000   \n",
       "25%                      621.000000                1974.500000   \n",
       "50%                      819.000000                2000.000000   \n",
       "75%                     1050.000000                2016.000000   \n",
       "max                     2149.000000                2025.000000   \n",
       "\n",
       "       subject.effective_age_parsed  \n",
       "count                     87.000000  \n",
       "mean                      82.804598  \n",
       "std                      369.271182  \n",
       "min                        0.000000  \n",
       "25%                        8.000000  \n",
       "50%                       14.000000  \n",
       "75%                       17.500000  \n",
       "max                     2025.000000  "
      ]
     },
     "execution_count": 64,
     "metadata": {},
     "output_type": "execute_result"
    }
   ],
   "source": [
    "normalized_df.describe()"
   ]
  },
  {
   "cell_type": "code",
   "execution_count": null,
   "id": "7d2bb258",
   "metadata": {},
   "outputs": [],
   "source": []
  }
 ],
 "metadata": {
  "kernelspec": {
   "display_name": "cpsc330",
   "language": "python",
   "name": "python3"
  },
  "language_info": {
   "codemirror_mode": {
    "name": "ipython",
    "version": 3
   },
   "file_extension": ".py",
   "mimetype": "text/x-python",
   "name": "python",
   "nbconvert_exporter": "python",
   "pygments_lexer": "ipython3",
   "version": "3.12.0"
  }
 },
 "nbformat": 4,
 "nbformat_minor": 5
}
